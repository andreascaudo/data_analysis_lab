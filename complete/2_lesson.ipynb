{
 "cells": [
  {
   "cell_type": "markdown",
   "id": "31e6d9e4-cebc-439e-a26a-acc312d17a99",
   "metadata": {},
   "source": [
    "# Parte 3 - Machine Learning Workflow"
   ]
  },
  {
   "cell_type": "markdown",
   "id": "0eef1d17-6ebc-41c2-8942-46314e5ce4d7",
   "metadata": {},
   "source": [
    "Datasets: [Diamanti](https://www.kaggle.com/shivam2503/diamonds)"
   ]
  },
  {
   "cell_type": "markdown",
   "id": "d8da14e5-8db5-4726-9ce8-9f7802c0a561",
   "metadata": {},
   "source": [
    "**OBBIETTVO:** In base alle sue caratteristiche provare a predire il prezzo di un diamante <br>\n",
    "Utilizzeremo la libreria python **scikit-learn** per testare alcuni algoritmi di classificiazione!"
   ]
  },
  {
   "cell_type": "code",
   "execution_count": 52,
   "id": "02bd4460-6f6e-4089-b204-95194f27903f",
   "metadata": {},
   "outputs": [],
   "source": [
    "import pandas as pd\n",
    "import numpy as np\n",
    "\n",
    "import sklearn\n",
    "from sklearn import svm, preprocessing\n",
    "\n",
    "diamond_df = pd.read_csv(\"datasets/diamonds.csv\", index_col = 0)"
   ]
  },
  {
   "cell_type": "code",
   "execution_count": 53,
   "id": "da764bd1-4459-4f00-9c90-5f22ef041e96",
   "metadata": {},
   "outputs": [
    {
     "data": {
      "text/html": [
       "<div>\n",
       "<style scoped>\n",
       "    .dataframe tbody tr th:only-of-type {\n",
       "        vertical-align: middle;\n",
       "    }\n",
       "\n",
       "    .dataframe tbody tr th {\n",
       "        vertical-align: top;\n",
       "    }\n",
       "\n",
       "    .dataframe thead th {\n",
       "        text-align: right;\n",
       "    }\n",
       "</style>\n",
       "<table border=\"1\" class=\"dataframe\">\n",
       "  <thead>\n",
       "    <tr style=\"text-align: right;\">\n",
       "      <th></th>\n",
       "      <th>carat</th>\n",
       "      <th>cut</th>\n",
       "      <th>color</th>\n",
       "      <th>clarity</th>\n",
       "      <th>depth</th>\n",
       "      <th>table</th>\n",
       "      <th>price</th>\n",
       "      <th>x</th>\n",
       "      <th>y</th>\n",
       "      <th>z</th>\n",
       "    </tr>\n",
       "  </thead>\n",
       "  <tbody>\n",
       "    <tr>\n",
       "      <th>1</th>\n",
       "      <td>0.23</td>\n",
       "      <td>Ideal</td>\n",
       "      <td>E</td>\n",
       "      <td>SI2</td>\n",
       "      <td>61.5</td>\n",
       "      <td>55.0</td>\n",
       "      <td>326</td>\n",
       "      <td>3.95</td>\n",
       "      <td>3.98</td>\n",
       "      <td>2.43</td>\n",
       "    </tr>\n",
       "    <tr>\n",
       "      <th>2</th>\n",
       "      <td>0.21</td>\n",
       "      <td>Premium</td>\n",
       "      <td>E</td>\n",
       "      <td>SI1</td>\n",
       "      <td>59.8</td>\n",
       "      <td>61.0</td>\n",
       "      <td>326</td>\n",
       "      <td>3.89</td>\n",
       "      <td>3.84</td>\n",
       "      <td>2.31</td>\n",
       "    </tr>\n",
       "    <tr>\n",
       "      <th>3</th>\n",
       "      <td>0.23</td>\n",
       "      <td>Good</td>\n",
       "      <td>E</td>\n",
       "      <td>VS1</td>\n",
       "      <td>56.9</td>\n",
       "      <td>65.0</td>\n",
       "      <td>327</td>\n",
       "      <td>4.05</td>\n",
       "      <td>4.07</td>\n",
       "      <td>2.31</td>\n",
       "    </tr>\n",
       "    <tr>\n",
       "      <th>4</th>\n",
       "      <td>0.29</td>\n",
       "      <td>Premium</td>\n",
       "      <td>I</td>\n",
       "      <td>VS2</td>\n",
       "      <td>62.4</td>\n",
       "      <td>58.0</td>\n",
       "      <td>334</td>\n",
       "      <td>4.20</td>\n",
       "      <td>4.23</td>\n",
       "      <td>2.63</td>\n",
       "    </tr>\n",
       "    <tr>\n",
       "      <th>5</th>\n",
       "      <td>0.31</td>\n",
       "      <td>Good</td>\n",
       "      <td>J</td>\n",
       "      <td>SI2</td>\n",
       "      <td>63.3</td>\n",
       "      <td>58.0</td>\n",
       "      <td>335</td>\n",
       "      <td>4.34</td>\n",
       "      <td>4.35</td>\n",
       "      <td>2.75</td>\n",
       "    </tr>\n",
       "  </tbody>\n",
       "</table>\n",
       "</div>"
      ],
      "text/plain": [
       "   carat      cut color clarity  depth  table  price     x     y     z\n",
       "1   0.23    Ideal     E     SI2   61.5   55.0    326  3.95  3.98  2.43\n",
       "2   0.21  Premium     E     SI1   59.8   61.0    326  3.89  3.84  2.31\n",
       "3   0.23     Good     E     VS1   56.9   65.0    327  4.05  4.07  2.31\n",
       "4   0.29  Premium     I     VS2   62.4   58.0    334  4.20  4.23  2.63\n",
       "5   0.31     Good     J     SI2   63.3   58.0    335  4.34  4.35  2.75"
      ]
     },
     "execution_count": 53,
     "metadata": {},
     "output_type": "execute_result"
    }
   ],
   "source": [
    "diamond_df.head()"
   ]
  },
  {
   "cell_type": "markdown",
   "id": "1acfa5a7-480c-43b7-a25c-6bfc85f0dc38",
   "metadata": {},
   "source": [
    "**Quale modello algoritmo di classificazione dovremmo utilizzare?**\n",
    "\n",
    "[Come scegliere il corretto algoritmo](https://scikit-learn.org/stable/tutorial/machine_learning_map/index.html)"
   ]
  },
  {
   "cell_type": "code",
   "execution_count": 54,
   "id": "538bf87f-9297-4935-a6a0-24e0f2c32899",
   "metadata": {},
   "outputs": [
    {
     "data": {
      "text/plain": [
       "53940"
      ]
     },
     "execution_count": 54,
     "metadata": {},
     "output_type": "execute_result"
    }
   ],
   "source": [
    "len(diamond_df)"
   ]
  },
  {
   "cell_type": "markdown",
   "id": "ba722153-31ca-422e-8de0-a17d6387fc5b",
   "metadata": {},
   "source": [
    "## Linear Regression"
   ]
  },
  {
   "cell_type": "markdown",
   "id": "5316f475-b007-4bf9-9221-c69795004cab",
   "metadata": {},
   "source": [
    "<img src=\"images/regression_1.jpeg\" alt=\"Drawing\" style=\"width: 545px;\"/><img src=\"images/regression_2.jpeg\" alt=\"Drawing\" style=\"width: 500px;\"/> <br> Per utilizzare la Linear Regression deve esserci una relazione lineare tra i dati"
   ]
  },
  {
   "cell_type": "markdown",
   "id": "550b749c-bad3-4fc0-be5b-a8222cc3784f",
   "metadata": {},
   "source": [
    "<img src=\"images/regression_3.png\" alt=\"Drawing\" style=\"width: 545px;\"/> "
   ]
  },
  {
   "cell_type": "markdown",
   "id": "ef670065-8ed7-41ed-bf18-341a5db48f05",
   "metadata": {},
   "source": [
    "[Least Square Method](https://www.varsitytutors.com/hotmath/hotmath_help/topics/line-of-best-fit)"
   ]
  },
  {
   "cell_type": "markdown",
   "id": "30b4f576-6814-4804-9491-69a8439a7347",
   "metadata": {},
   "source": [
    "Come si definisce la best fit line? <br>"
   ]
  },
  {
   "cell_type": "markdown",
   "id": "27cbfffb-8e91-4636-b234-23f6723b4eb5",
   "metadata": {},
   "source": [
    "$$Y = mx + b$$"
   ]
  },
  {
   "cell_type": "markdown",
   "id": "f280d1b3-1e05-42c1-9501-1e357c36c67c",
   "metadata": {},
   "source": [
    "Data una X dobbiamo trovare la sua Y corrispondente, ma prima dobbiamo risolvere _m_ e _b_:"
   ]
  },
  {
   "cell_type": "markdown",
   "id": "8eb8a9ff-2699-4502-92bc-b4c52a2fa439",
   "metadata": {},
   "source": [
    "_m_ è la pendenza<br>\n",
    "_b_ è l'intersezione di y"
   ]
  },
  {
   "cell_type": "markdown",
   "id": "434c9f91-0de9-4d92-9196-f6898125afe4",
   "metadata": {},
   "source": [
    "$$m = \\frac{\\overline{x}\\cdot\\overline{y} - \\overline{xy}}{(\\overline{x})^2-\\overline{x^2}}$$"
   ]
  },
  {
   "cell_type": "markdown",
   "id": "f00e30a6-3a40-4658-aa46-8b2f5b46aebe",
   "metadata": {},
   "source": [
    "$$b = \\overline{y}-m\\overline{x} $$"
   ]
  },
  {
   "cell_type": "markdown",
   "id": "ee4af367-a2ed-438b-9d83-c28c77355ef7",
   "metadata": {},
   "source": [
    "In questo caso abbiamo dati su 2 dimensioni, ma appena incrementiamo la dimensione dello spazio verriale incrementerà anche la complessità dei calcoli"
   ]
  },
  {
   "cell_type": "markdown",
   "id": "32b8d380-c290-4b83-99ab-769be39683b8",
   "metadata": {},
   "source": [
    "**Per allenare il nostro modello vogliamo utilizzare tutti i paramentri tranne il prezzo**"
   ]
  },
  {
   "cell_type": "code",
   "execution_count": 55,
   "id": "d0a33bef-abda-447f-9063-7aa8a782459f",
   "metadata": {},
   "outputs": [
    {
     "data": {
      "text/plain": [
       "array(['Ideal', 'Premium', 'Good', 'Very Good', 'Fair'], dtype=object)"
      ]
     },
     "execution_count": 55,
     "metadata": {},
     "output_type": "execute_result"
    }
   ],
   "source": [
    "diamond_df[\"cut\"].unique()"
   ]
  },
  {
   "cell_type": "markdown",
   "id": "5199fc84-35cb-4bab-92e9-e7de26effa0f",
   "metadata": {},
   "source": [
    "Abbiamo bisogno di categorie numeriche!"
   ]
  },
  {
   "cell_type": "code",
   "execution_count": 56,
   "id": "fbaeea25-510c-480f-8d46-586a18c14478",
   "metadata": {},
   "outputs": [
    {
     "data": {
      "text/plain": [
       "1        2\n",
       "2        3\n",
       "3        1\n",
       "4        3\n",
       "5        1\n",
       "        ..\n",
       "53936    2\n",
       "53937    1\n",
       "53938    4\n",
       "53939    3\n",
       "53940    2\n",
       "Length: 53940, dtype: int8"
      ]
     },
     "execution_count": 56,
     "metadata": {},
     "output_type": "execute_result"
    }
   ],
   "source": [
    "diamond_df[\"cut\"].astype(\"category\").cat.codes"
   ]
  },
  {
   "cell_type": "markdown",
   "id": "018345c0-2052-474c-a2f8-6dd2d0fe035a",
   "metadata": {},
   "source": [
    "**Problema**: Dobbiamo preservare il significato delle labels: per esempio Premium sarà migliore di Fair e così via.."
   ]
  },
  {
   "cell_type": "code",
   "execution_count": 57,
   "id": "0bc7c7cd-25f0-4aae-af8f-4aaa7c920d8b",
   "metadata": {},
   "outputs": [],
   "source": [
    "cut_dizionario = {\"Fair\":1, \"Good\":2, \"Very Good\":3, \"Premium\":4, \"Ideal\":5}"
   ]
  },
  {
   "cell_type": "markdown",
   "id": "32b1c9e9-f622-4fc5-ade7-2bef7940ec95",
   "metadata": {},
   "source": [
    "Stessa cosa per:"
   ]
  },
  {
   "cell_type": "code",
   "execution_count": 58,
   "id": "c06de3a3-a299-4f90-9915-edce8b8a46b5",
   "metadata": {},
   "outputs": [],
   "source": [
    "clarity_dizionario = {\"I3\": 1, \"I2\": 2, \"I1\": 3, \"SI2\": 4, \"SI1\": 5, \"VS2\": 6, \"VS1\": 7, \"VVS2\": 8, \"VVS1\": 9, \"IF\": 10, \"FL\": 11}\n",
    "color_dizionario = {\"J\": 1,\"I\": 2,\"H\": 3,\"G\": 4,\"F\": 5,\"E\": 6,\"D\": 7}"
   ]
  },
  {
   "cell_type": "markdown",
   "id": "3477e5e1-ebdb-4857-86db-a5052547fe59",
   "metadata": {},
   "source": [
    "Bisognerà mappare queste classi alle varie colonne del dataset"
   ]
  },
  {
   "cell_type": "code",
   "execution_count": 59,
   "id": "1e3f62d1-56fa-4665-ae4b-781e9e4960ac",
   "metadata": {},
   "outputs": [],
   "source": [
    "diamond_df['cut'] = diamond_df['cut'].map(cut_dizionario)"
   ]
  },
  {
   "cell_type": "markdown",
   "id": "8fd0cfba-05b8-43d2-9a6c-0f66415a1ee4",
   "metadata": {},
   "source": [
    "## Esercizio 13:\n",
    "- Mappare le colonne \"clarity\" e \"color\" con i rispettivi dizionari!"
   ]
  },
  {
   "cell_type": "code",
   "execution_count": 60,
   "id": "c4bb93a9-26b6-4da4-ab79-c84f2a6ffc56",
   "metadata": {},
   "outputs": [],
   "source": [
    "#Esercizio\n",
    "diamond_df['clarity'] = diamond_df['clarity'].map(clarity_dizionario)\n",
    "diamond_df['color'] = diamond_df['color'].map(color_dizionario)"
   ]
  },
  {
   "cell_type": "code",
   "execution_count": 61,
   "id": "bc658455-01f5-4b06-9779-8698c27d35be",
   "metadata": {},
   "outputs": [
    {
     "data": {
      "text/html": [
       "<div>\n",
       "<style scoped>\n",
       "    .dataframe tbody tr th:only-of-type {\n",
       "        vertical-align: middle;\n",
       "    }\n",
       "\n",
       "    .dataframe tbody tr th {\n",
       "        vertical-align: top;\n",
       "    }\n",
       "\n",
       "    .dataframe thead th {\n",
       "        text-align: right;\n",
       "    }\n",
       "</style>\n",
       "<table border=\"1\" class=\"dataframe\">\n",
       "  <thead>\n",
       "    <tr style=\"text-align: right;\">\n",
       "      <th></th>\n",
       "      <th>carat</th>\n",
       "      <th>cut</th>\n",
       "      <th>color</th>\n",
       "      <th>clarity</th>\n",
       "      <th>depth</th>\n",
       "      <th>table</th>\n",
       "      <th>price</th>\n",
       "      <th>x</th>\n",
       "      <th>y</th>\n",
       "      <th>z</th>\n",
       "    </tr>\n",
       "  </thead>\n",
       "  <tbody>\n",
       "    <tr>\n",
       "      <th>1</th>\n",
       "      <td>0.23</td>\n",
       "      <td>5</td>\n",
       "      <td>6</td>\n",
       "      <td>4</td>\n",
       "      <td>61.5</td>\n",
       "      <td>55.0</td>\n",
       "      <td>326</td>\n",
       "      <td>3.95</td>\n",
       "      <td>3.98</td>\n",
       "      <td>2.43</td>\n",
       "    </tr>\n",
       "    <tr>\n",
       "      <th>2</th>\n",
       "      <td>0.21</td>\n",
       "      <td>4</td>\n",
       "      <td>6</td>\n",
       "      <td>5</td>\n",
       "      <td>59.8</td>\n",
       "      <td>61.0</td>\n",
       "      <td>326</td>\n",
       "      <td>3.89</td>\n",
       "      <td>3.84</td>\n",
       "      <td>2.31</td>\n",
       "    </tr>\n",
       "    <tr>\n",
       "      <th>3</th>\n",
       "      <td>0.23</td>\n",
       "      <td>2</td>\n",
       "      <td>6</td>\n",
       "      <td>7</td>\n",
       "      <td>56.9</td>\n",
       "      <td>65.0</td>\n",
       "      <td>327</td>\n",
       "      <td>4.05</td>\n",
       "      <td>4.07</td>\n",
       "      <td>2.31</td>\n",
       "    </tr>\n",
       "    <tr>\n",
       "      <th>4</th>\n",
       "      <td>0.29</td>\n",
       "      <td>4</td>\n",
       "      <td>2</td>\n",
       "      <td>6</td>\n",
       "      <td>62.4</td>\n",
       "      <td>58.0</td>\n",
       "      <td>334</td>\n",
       "      <td>4.20</td>\n",
       "      <td>4.23</td>\n",
       "      <td>2.63</td>\n",
       "    </tr>\n",
       "    <tr>\n",
       "      <th>5</th>\n",
       "      <td>0.31</td>\n",
       "      <td>2</td>\n",
       "      <td>1</td>\n",
       "      <td>4</td>\n",
       "      <td>63.3</td>\n",
       "      <td>58.0</td>\n",
       "      <td>335</td>\n",
       "      <td>4.34</td>\n",
       "      <td>4.35</td>\n",
       "      <td>2.75</td>\n",
       "    </tr>\n",
       "  </tbody>\n",
       "</table>\n",
       "</div>"
      ],
      "text/plain": [
       "   carat  cut  color  clarity  depth  table  price     x     y     z\n",
       "1   0.23    5      6        4   61.5   55.0    326  3.95  3.98  2.43\n",
       "2   0.21    4      6        5   59.8   61.0    326  3.89  3.84  2.31\n",
       "3   0.23    2      6        7   56.9   65.0    327  4.05  4.07  2.31\n",
       "4   0.29    4      2        6   62.4   58.0    334  4.20  4.23  2.63\n",
       "5   0.31    2      1        4   63.3   58.0    335  4.34  4.35  2.75"
      ]
     },
     "execution_count": 61,
     "metadata": {},
     "output_type": "execute_result"
    }
   ],
   "source": [
    "diamond_df.head()"
   ]
  },
  {
   "cell_type": "markdown",
   "id": "fc356dfa-93eb-4a9e-92d5-19e06a311e32",
   "metadata": {},
   "source": [
    "Prima di allenare il nostro modello è importante mescolare i dati per evitare che si formi del biasing analizzando i dati in ordine.\n",
    "<br> Per esempio potrebbe essere, come nel nostro caso, che i dati siano ordinati per prezzo."
   ]
  },
  {
   "cell_type": "code",
   "execution_count": 62,
   "id": "371b804d-fec3-4146-b899-08bc0547c06a",
   "metadata": {},
   "outputs": [
    {
     "data": {
      "text/html": [
       "<div>\n",
       "<style scoped>\n",
       "    .dataframe tbody tr th:only-of-type {\n",
       "        vertical-align: middle;\n",
       "    }\n",
       "\n",
       "    .dataframe tbody tr th {\n",
       "        vertical-align: top;\n",
       "    }\n",
       "\n",
       "    .dataframe thead th {\n",
       "        text-align: right;\n",
       "    }\n",
       "</style>\n",
       "<table border=\"1\" class=\"dataframe\">\n",
       "  <thead>\n",
       "    <tr style=\"text-align: right;\">\n",
       "      <th></th>\n",
       "      <th>carat</th>\n",
       "      <th>cut</th>\n",
       "      <th>color</th>\n",
       "      <th>clarity</th>\n",
       "      <th>depth</th>\n",
       "      <th>table</th>\n",
       "      <th>price</th>\n",
       "      <th>x</th>\n",
       "      <th>y</th>\n",
       "      <th>z</th>\n",
       "    </tr>\n",
       "  </thead>\n",
       "  <tbody>\n",
       "    <tr>\n",
       "      <th>1</th>\n",
       "      <td>0.23</td>\n",
       "      <td>5</td>\n",
       "      <td>6</td>\n",
       "      <td>4</td>\n",
       "      <td>61.5</td>\n",
       "      <td>55.0</td>\n",
       "      <td>326</td>\n",
       "      <td>3.95</td>\n",
       "      <td>3.98</td>\n",
       "      <td>2.43</td>\n",
       "    </tr>\n",
       "    <tr>\n",
       "      <th>2</th>\n",
       "      <td>0.21</td>\n",
       "      <td>4</td>\n",
       "      <td>6</td>\n",
       "      <td>5</td>\n",
       "      <td>59.8</td>\n",
       "      <td>61.0</td>\n",
       "      <td>326</td>\n",
       "      <td>3.89</td>\n",
       "      <td>3.84</td>\n",
       "      <td>2.31</td>\n",
       "    </tr>\n",
       "    <tr>\n",
       "      <th>3</th>\n",
       "      <td>0.23</td>\n",
       "      <td>2</td>\n",
       "      <td>6</td>\n",
       "      <td>7</td>\n",
       "      <td>56.9</td>\n",
       "      <td>65.0</td>\n",
       "      <td>327</td>\n",
       "      <td>4.05</td>\n",
       "      <td>4.07</td>\n",
       "      <td>2.31</td>\n",
       "    </tr>\n",
       "    <tr>\n",
       "      <th>4</th>\n",
       "      <td>0.29</td>\n",
       "      <td>4</td>\n",
       "      <td>2</td>\n",
       "      <td>6</td>\n",
       "      <td>62.4</td>\n",
       "      <td>58.0</td>\n",
       "      <td>334</td>\n",
       "      <td>4.20</td>\n",
       "      <td>4.23</td>\n",
       "      <td>2.63</td>\n",
       "    </tr>\n",
       "    <tr>\n",
       "      <th>5</th>\n",
       "      <td>0.31</td>\n",
       "      <td>2</td>\n",
       "      <td>1</td>\n",
       "      <td>4</td>\n",
       "      <td>63.3</td>\n",
       "      <td>58.0</td>\n",
       "      <td>335</td>\n",
       "      <td>4.34</td>\n",
       "      <td>4.35</td>\n",
       "      <td>2.75</td>\n",
       "    </tr>\n",
       "    <tr>\n",
       "      <th>...</th>\n",
       "      <td>...</td>\n",
       "      <td>...</td>\n",
       "      <td>...</td>\n",
       "      <td>...</td>\n",
       "      <td>...</td>\n",
       "      <td>...</td>\n",
       "      <td>...</td>\n",
       "      <td>...</td>\n",
       "      <td>...</td>\n",
       "      <td>...</td>\n",
       "    </tr>\n",
       "    <tr>\n",
       "      <th>53936</th>\n",
       "      <td>0.72</td>\n",
       "      <td>5</td>\n",
       "      <td>7</td>\n",
       "      <td>5</td>\n",
       "      <td>60.8</td>\n",
       "      <td>57.0</td>\n",
       "      <td>2757</td>\n",
       "      <td>5.75</td>\n",
       "      <td>5.76</td>\n",
       "      <td>3.50</td>\n",
       "    </tr>\n",
       "    <tr>\n",
       "      <th>53937</th>\n",
       "      <td>0.72</td>\n",
       "      <td>2</td>\n",
       "      <td>7</td>\n",
       "      <td>5</td>\n",
       "      <td>63.1</td>\n",
       "      <td>55.0</td>\n",
       "      <td>2757</td>\n",
       "      <td>5.69</td>\n",
       "      <td>5.75</td>\n",
       "      <td>3.61</td>\n",
       "    </tr>\n",
       "    <tr>\n",
       "      <th>53938</th>\n",
       "      <td>0.70</td>\n",
       "      <td>3</td>\n",
       "      <td>7</td>\n",
       "      <td>5</td>\n",
       "      <td>62.8</td>\n",
       "      <td>60.0</td>\n",
       "      <td>2757</td>\n",
       "      <td>5.66</td>\n",
       "      <td>5.68</td>\n",
       "      <td>3.56</td>\n",
       "    </tr>\n",
       "    <tr>\n",
       "      <th>53939</th>\n",
       "      <td>0.86</td>\n",
       "      <td>4</td>\n",
       "      <td>3</td>\n",
       "      <td>4</td>\n",
       "      <td>61.0</td>\n",
       "      <td>58.0</td>\n",
       "      <td>2757</td>\n",
       "      <td>6.15</td>\n",
       "      <td>6.12</td>\n",
       "      <td>3.74</td>\n",
       "    </tr>\n",
       "    <tr>\n",
       "      <th>53940</th>\n",
       "      <td>0.75</td>\n",
       "      <td>5</td>\n",
       "      <td>7</td>\n",
       "      <td>4</td>\n",
       "      <td>62.2</td>\n",
       "      <td>55.0</td>\n",
       "      <td>2757</td>\n",
       "      <td>5.83</td>\n",
       "      <td>5.87</td>\n",
       "      <td>3.64</td>\n",
       "    </tr>\n",
       "  </tbody>\n",
       "</table>\n",
       "<p>53940 rows × 10 columns</p>\n",
       "</div>"
      ],
      "text/plain": [
       "       carat  cut  color  clarity  depth  table  price     x     y     z\n",
       "1       0.23    5      6        4   61.5   55.0    326  3.95  3.98  2.43\n",
       "2       0.21    4      6        5   59.8   61.0    326  3.89  3.84  2.31\n",
       "3       0.23    2      6        7   56.9   65.0    327  4.05  4.07  2.31\n",
       "4       0.29    4      2        6   62.4   58.0    334  4.20  4.23  2.63\n",
       "5       0.31    2      1        4   63.3   58.0    335  4.34  4.35  2.75\n",
       "...      ...  ...    ...      ...    ...    ...    ...   ...   ...   ...\n",
       "53936   0.72    5      7        5   60.8   57.0   2757  5.75  5.76  3.50\n",
       "53937   0.72    2      7        5   63.1   55.0   2757  5.69  5.75  3.61\n",
       "53938   0.70    3      7        5   62.8   60.0   2757  5.66  5.68  3.56\n",
       "53939   0.86    4      3        4   61.0   58.0   2757  6.15  6.12  3.74\n",
       "53940   0.75    5      7        4   62.2   55.0   2757  5.83  5.87  3.64\n",
       "\n",
       "[53940 rows x 10 columns]"
      ]
     },
     "execution_count": 62,
     "metadata": {},
     "output_type": "execute_result"
    }
   ],
   "source": [
    "diamond_df"
   ]
  },
  {
   "cell_type": "code",
   "execution_count": 63,
   "id": "8cb1020c-437d-4f30-b81e-6dde56ab1fa4",
   "metadata": {},
   "outputs": [],
   "source": [
    "diamond_df = sklearn.utils.shuffle(diamond_df)"
   ]
  },
  {
   "cell_type": "markdown",
   "id": "42385b0c-e303-49ad-ab52-094690a4773c",
   "metadata": {},
   "source": [
    "Separiamo il set di features dalla label che dobbiamo predire"
   ]
  },
  {
   "cell_type": "code",
   "execution_count": 74,
   "id": "c1a37114-b065-4e44-858a-86f3a1913c8d",
   "metadata": {},
   "outputs": [],
   "source": [
    "X = diamond_df.drop(\"price\", axis=1).values #Feature Set --> Ogni label tranne quella che dobbiamo predire\n",
    "y = diamond_df[\"price\"].values"
   ]
  },
  {
   "cell_type": "code",
   "execution_count": 75,
   "id": "daa20991-77ff-4551-85ac-3ccba9436f96",
   "metadata": {},
   "outputs": [
    {
     "data": {
      "text/plain": [
       "array([[2.08, 5.  , 4.  , ..., 8.22, 8.18, 5.07],\n",
       "       [0.4 , 3.  , 4.  , ..., 4.73, 4.7 , 2.98],\n",
       "       [1.31, 4.  , 2.  , ..., 6.97, 6.93, 4.38],\n",
       "       ...,\n",
       "       [0.95, 1.  , 1.  , ..., 6.17, 6.12, 3.99],\n",
       "       [0.6 , 5.  , 5.  , ..., 5.42, 5.45, 3.34],\n",
       "       [0.7 , 1.  , 7.  , ..., 5.45, 5.52, 3.62]])"
      ]
     },
     "execution_count": 75,
     "metadata": {},
     "output_type": "execute_result"
    }
   ],
   "source": [
    "X"
   ]
  },
  {
   "cell_type": "markdown",
   "id": "fb68f6af-ec90-42bc-ae55-120e42394d42",
   "metadata": {},
   "source": [
    "**Bonus**: Avremmo potuto barare caricando il dataframe con l'index, poiché il dataset era ordinato per prezzo e facendo ciò avremmo lasciato un informazione in più che avrebbe compromesso la nostra regressione, poiché l'indice sarebbe stato ordinato come il prezzo."
   ]
  },
  {
   "cell_type": "markdown",
   "id": "944025de-e1f2-4091-b73f-18536bcda150",
   "metadata": {},
   "source": [
    "**Preprocessing**: Permette di normalizzare i valori, in questo modo ridurremo la sparsità e il modello lavorerà con dati più uniformi con conseguente miglioramente nelle performance"
   ]
  },
  {
   "cell_type": "code",
   "execution_count": 76,
   "id": "5d9e3202-8113-42c8-9dde-49d227bf3393",
   "metadata": {},
   "outputs": [
    {
     "name": "stdout",
     "output_type": "stream",
     "text": [
      "16.596651670580478\n"
     ]
    }
   ],
   "source": [
    "print(np.mean(X))"
   ]
  },
  {
   "cell_type": "code",
   "execution_count": 77,
   "id": "d98c3fc2-4b0b-4909-8aac-4e1a2edd8f79",
   "metadata": {},
   "outputs": [],
   "source": [
    "X = preprocessing.scale(X) #Cerca"
   ]
  },
  {
   "cell_type": "code",
   "execution_count": 78,
   "id": "b9cd36e7-bfcb-453d-ae6b-4e3a977eb129",
   "metadata": {},
   "outputs": [
    {
     "name": "stdout",
     "output_type": "stream",
     "text": [
      "3.2311501327895136e-16\n"
     ]
    }
   ],
   "source": [
    "print(np.mean(X))"
   ]
  },
  {
   "cell_type": "code",
   "execution_count": 37,
   "id": "b9d260ec-e611-48b0-854d-27c1c18254bc",
   "metadata": {},
   "outputs": [],
   "source": [
    "test_size = 200"
   ]
  },
  {
   "cell_type": "markdown",
   "id": "ab363a75-fe99-4a29-bc00-c28d2aacee3c",
   "metadata": {},
   "source": [
    "Il **train** è una porzione del dataset per cui il modello viene allenato\n",
    "\n",
    "Il **test** è una porzione del dataset che il nostro modello non vedrà mai, e sarà usato per valutarne le performance."
   ]
  },
  {
   "cell_type": "code",
   "execution_count": 79,
   "id": "fb024ca9-5ea6-4669-9149-de16785090ce",
   "metadata": {},
   "outputs": [],
   "source": [
    "X_train = X[:-test_size]\n",
    "y_train = y[:-test_size]\n",
    "\n",
    "X_test = X[-test_size:]\n",
    "y_test = y[-test_size:]"
   ]
  },
  {
   "cell_type": "markdown",
   "id": "29eb936f-c058-422e-88a7-69407c83a830",
   "metadata": {},
   "source": [
    "Nel caso utilizzassimo il dataset di test per allenare il modello l'accurattezza finale risulterebbe compromessa poiché i dati sono già stati visionati dal modello durante la fase di train, in questo modo non possiamo verificare tramite il test se il modello abbia realmente imparato a predire un valore o abbia solamente imparato a memoria il dataset di train. Per questo motivo i dati di test devono essere utilizzati solo per testare il modello!"
   ]
  },
  {
   "cell_type": "markdown",
   "id": "acc8f44b-4fbd-4962-bda5-a39cd7565871",
   "metadata": {},
   "source": [
    "Andiamo a selezionare il [modello](https://scikit-learn.org/stable/tutorial/machine_learning_map/index.html) da utilizzare"
   ]
  },
  {
   "cell_type": "code",
   "execution_count": 81,
   "id": "03e78dd1-576e-4c26-81e6-035657faeeea",
   "metadata": {},
   "outputs": [
    {
     "data": {
      "text/plain": [
       "SVR(kernel='linear')"
      ]
     },
     "execution_count": 81,
     "metadata": {},
     "output_type": "execute_result"
    }
   ],
   "source": [
    "clf = svm.SVR(kernel=\"linear\")\n",
    "clf.fit(X_train, y_train)"
   ]
  },
  {
   "cell_type": "code",
   "execution_count": 82,
   "id": "1edb0a96-ec75-4f8d-8e07-193d2ce760af",
   "metadata": {},
   "outputs": [
    {
     "data": {
      "text/plain": [
       "0.8976448088812292"
      ]
     },
     "execution_count": 82,
     "metadata": {},
     "output_type": "execute_result"
    }
   ],
   "source": [
    "clf.score(X_test, y_test)"
   ]
  },
  {
   "cell_type": "markdown",
   "id": "eef67a0a-3ec0-4208-bb9f-91d8ad04f1c1",
   "metadata": {},
   "source": [
    "Coefficiente di determinazione (R quadro): \n",
    "- 0.0 Caso peggiore \n",
    "- 1.0 Caso migliore\n",
    "\n",
    "Esso è calcolato partendo dall'errore quadratico medio"
   ]
  },
  {
   "cell_type": "markdown",
   "id": "ce064ba4-00d9-42e3-a60a-9f2fc2adbabd",
   "metadata": {},
   "source": [
    "Fin troppo bello per essere vero!"
   ]
  },
  {
   "cell_type": "markdown",
   "id": "97c7816d-5da1-4843-a695-c1408cc12818",
   "metadata": {},
   "source": [
    "Andiamo a verificare quello che è successo!"
   ]
  },
  {
   "cell_type": "code",
   "execution_count": 83,
   "id": "d20f755a-0442-4c29-8c12-6a067d8fba1e",
   "metadata": {},
   "outputs": [
    {
     "name": "stdout",
     "output_type": "stream",
     "text": [
      "Model: [3301.56887613], Actual: 3093\n",
      "Model: [700.87921669], Actual: 881\n",
      "Model: [13492.10926782], Actual: 13200\n",
      "Model: [11927.23385104], Actual: 14130\n",
      "Model: [7986.77641652], Actual: 8033\n",
      "Model: [1629.20475456], Actual: 1577\n",
      "Model: [916.03632614], Actual: 990\n",
      "Model: [5220.65694161], Actual: 6479\n",
      "Model: [589.94200934], Actual: 827\n",
      "Model: [451.14632834], Actual: 743\n",
      "Model: [2008.18138527], Actual: 1439\n",
      "Model: [960.63746592], Actual: 842\n",
      "Model: [38.32809791], Actual: 556\n",
      "Model: [31.05473824], Actual: 462\n",
      "Model: [1013.57947654], Actual: 912\n",
      "Model: [5021.55835055], Actual: 4421\n",
      "Model: [3614.38740382], Actual: 3087\n",
      "Model: [7235.3752142], Actual: 10138\n",
      "Model: [3119.52704782], Actual: 2753\n",
      "Model: [6185.271093], Actual: 6363\n",
      "Model: [4564.51016651], Actual: 4876\n",
      "Model: [8506.82097249], Actual: 8777\n",
      "Model: [5536.51476394], Actual: 7412\n",
      "Model: [211.44741257], Actual: 720\n",
      "Model: [690.44529001], Actual: 965\n",
      "Model: [1202.86922743], Actual: 982\n",
      "Model: [4824.9576056], Actual: 5292\n",
      "Model: [5408.58031777], Actual: 5051\n",
      "Model: [2595.07000187], Actual: 2138\n",
      "Model: [640.23055785], Actual: 758\n",
      "Model: [927.66302206], Actual: 761\n",
      "Model: [5081.69429172], Actual: 6468\n",
      "Model: [1635.26725477], Actual: 1637\n",
      "Model: [2042.00851588], Actual: 1868\n",
      "Model: [3969.52695559], Actual: 3879\n",
      "Model: [314.71712048], Actual: 795\n",
      "Model: [-204.40363973], Actual: 445\n",
      "Model: [4728.36695228], Actual: 3234\n",
      "Model: [12521.52846214], Actual: 13069\n",
      "Model: [2625.99307307], Actual: 2252\n",
      "Model: [1872.38660713], Actual: 1358\n",
      "Model: [2291.36369901], Actual: 2072\n",
      "Model: [545.17664528], Actual: 756\n",
      "Model: [2772.78748046], Actual: 2806\n",
      "Model: [-43.14161114], Actual: 526\n",
      "Model: [2250.0516338], Actual: 1914\n",
      "Model: [2305.40777312], Actual: 1814\n",
      "Model: [271.88661012], Actual: 702\n",
      "Model: [569.99675412], Actual: 680\n",
      "Model: [445.64373439], Actual: 907\n",
      "Model: [3766.06208687], Actual: 3058\n",
      "Model: [1388.97626223], Actual: 1148\n",
      "Model: [1215.17575267], Actual: 854\n",
      "Model: [1043.52994481], Actual: 975\n",
      "Model: [221.0210731], Actual: 709\n",
      "Model: [4785.2387337], Actual: 4435\n",
      "Model: [755.7771946], Actual: 1013\n",
      "Model: [5547.97183063], Actual: 4140\n",
      "Model: [6392.73312012], Actual: 5809\n",
      "Model: [11.5933434], Actual: 537\n",
      "Model: [2596.77013385], Actual: 2527\n",
      "Model: [2115.58018902], Actual: 1637\n",
      "Model: [3191.80351291], Actual: 2708\n",
      "Model: [5614.03901226], Actual: 5938\n",
      "Model: [5815.12424695], Actual: 3098\n",
      "Model: [91.06726765], Actual: 595\n",
      "Model: [12721.08730355], Actual: 10179\n",
      "Model: [10474.63018503], Actual: 15014\n",
      "Model: [8680.93812751], Actual: 12437\n",
      "Model: [1132.0092451], Actual: 1098\n",
      "Model: [95.09488228], Actual: 596\n",
      "Model: [3062.73358851], Actual: 2726\n",
      "Model: [1381.58215763], Actual: 1316\n",
      "Model: [112.42815471], Actual: 605\n",
      "Model: [13272.4072426], Actual: 16709\n",
      "Model: [2275.11306804], Actual: 1698\n",
      "Model: [4188.51551269], Actual: 3776\n",
      "Model: [6150.18240388], Actual: 9680\n",
      "Model: [6390.13830284], Actual: 3774\n",
      "Model: [8399.74097847], Actual: 10514\n",
      "Model: [-174.65013033], Actual: 612\n",
      "Model: [9763.27270167], Actual: 11369\n",
      "Model: [2383.58924755], Actual: 1886\n",
      "Model: [837.90240487], Actual: 769\n",
      "Model: [9366.90630483], Actual: 15966\n",
      "Model: [700.88279489], Actual: 938\n",
      "Model: [2749.24758237], Actual: 2481\n",
      "Model: [12372.09522276], Actual: 13844\n",
      "Model: [604.28438539], Actual: 607\n",
      "Model: [3770.27317078], Actual: 3713\n",
      "Model: [4222.31992635], Actual: 4592\n",
      "Model: [1298.38234004], Actual: 1046\n",
      "Model: [1322.51350047], Actual: 1227\n",
      "Model: [2827.63158905], Actual: 2552\n",
      "Model: [2398.160693], Actual: 2057\n",
      "Model: [5474.77793158], Actual: 6974\n",
      "Model: [2236.62423323], Actual: 1949\n",
      "Model: [979.76388426], Actual: 814\n",
      "Model: [170.25462737], Actual: 689\n",
      "Model: [5253.19379265], Actual: 7168\n",
      "Model: [6339.40934166], Actual: 6121\n",
      "Model: [585.22435024], Actual: 942\n",
      "Model: [4264.68659693], Actual: 4136\n",
      "Model: [4773.78242454], Actual: 4956\n",
      "Model: [2521.60117153], Actual: 2850\n",
      "Model: [1732.18879458], Actual: 1559\n",
      "Model: [4338.06349621], Actual: 4241\n",
      "Model: [5862.97579576], Actual: 6651\n",
      "Model: [2676.85049025], Actual: 2246\n",
      "Model: [2089.43451717], Actual: 1980\n",
      "Model: [677.85294402], Actual: 754\n",
      "Model: [854.11160906], Actual: 833\n",
      "Model: [4027.86742484], Actual: 3312\n",
      "Model: [2774.19339644], Actual: 2151\n",
      "Model: [8264.00612365], Actual: 5631\n",
      "Model: [5053.23398845], Actual: 4583\n",
      "Model: [11589.45317552], Actual: 14350\n",
      "Model: [3598.3800499], Actual: 3840\n",
      "Model: [5518.31247829], Actual: 5659\n",
      "Model: [1763.8208468], Actual: 1720\n",
      "Model: [5423.91743905], Actual: 5411\n",
      "Model: [5134.95615019], Actual: 5622\n",
      "Model: [1494.45372245], Actual: 1422\n",
      "Model: [3378.67101299], Actual: 2489\n",
      "Model: [431.680934], Actual: 506\n",
      "Model: [550.88673073], Actual: 657\n",
      "Model: [690.5758717], Actual: 746\n",
      "Model: [12214.48297949], Actual: 18066\n",
      "Model: [7979.15466392], Actual: 10790\n",
      "Model: [4422.42078323], Actual: 4561\n",
      "Model: [6786.56944292], Actual: 4643\n",
      "Model: [162.26068812], Actual: 561\n",
      "Model: [-400.79472274], Actual: 574\n",
      "Model: [863.68224541], Actual: 867\n",
      "Model: [284.88687753], Actual: 702\n",
      "Model: [5284.42776167], Actual: 7392\n",
      "Model: [436.82449368], Actual: 755\n",
      "Model: [4163.98674774], Actual: 3945\n",
      "Model: [6240.51771401], Actual: 8364\n",
      "Model: [482.33621455], Actual: 807\n",
      "Model: [278.02386837], Actual: 684\n",
      "Model: [8549.44948941], Actual: 9530\n",
      "Model: [6012.10221015], Actual: 8726\n",
      "Model: [11501.29258855], Actual: 13865\n",
      "Model: [4112.94807529], Actual: 3119\n",
      "Model: [3007.80072844], Actual: 2275\n",
      "Model: [3362.87740512], Actual: 3061\n",
      "Model: [192.95325248], Actual: 569\n",
      "Model: [423.55659974], Actual: 776\n",
      "Model: [3645.12992468], Actual: 3705\n",
      "Model: [484.05732122], Actual: 802\n",
      "Model: [-364.62624142], Actual: 421\n",
      "Model: [1264.10050736], Actual: 954\n",
      "Model: [1809.82860066], Actual: 1787\n",
      "Model: [121.34932974], Actual: 605\n",
      "Model: [9579.90815684], Actual: 10609\n",
      "Model: [1593.68171465], Actual: 1574\n",
      "Model: [7029.82593363], Actual: 7631\n",
      "Model: [2346.93640146], Actual: 2121\n",
      "Model: [1562.00829034], Actual: 1238\n",
      "Model: [8157.73455481], Actual: 10255\n",
      "Model: [5725.93711186], Actual: 4847\n",
      "Model: [2840.09859499], Actual: 2416\n",
      "Model: [4345.31966504], Actual: 3669\n",
      "Model: [6188.27425136], Actual: 5914\n",
      "Model: [1252.36659705], Actual: 1076\n",
      "Model: [-500.65348926], Actual: 523\n",
      "Model: [5114.36797645], Actual: 6315\n",
      "Model: [1253.88825806], Actual: 1143\n",
      "Model: [568.73874796], Actual: 672\n",
      "Model: [775.31781694], Actual: 730\n",
      "Model: [928.45069086], Actual: 1074\n",
      "Model: [1264.97251718], Actual: 827\n",
      "Model: [3138.36582183], Actual: 3034\n",
      "Model: [471.39183496], Actual: 530\n",
      "Model: [1351.68662231], Actual: 1409\n",
      "Model: [5703.63029058], Actual: 4879\n",
      "Model: [1237.89230021], Actual: 918\n",
      "Model: [7613.93465963], Actual: 9699\n",
      "Model: [7383.4277932], Actual: 8294\n",
      "Model: [774.86073419], Actual: 967\n",
      "Model: [2733.43260847], Actual: 2394\n",
      "Model: [849.18639428], Actual: 772\n",
      "Model: [5500.47538036], Actual: 7032\n",
      "Model: [4254.89871766], Actual: 4475\n",
      "Model: [480.55403829], Actual: 911\n",
      "Model: [1516.62344287], Actual: 949\n",
      "Model: [1519.81834312], Actual: 1018\n",
      "Model: [5251.89889401], Actual: 5254\n",
      "Model: [2498.85086799], Actual: 1680\n",
      "Model: [8738.25839962], Actual: 11177\n",
      "Model: [5806.9250262], Actual: 6683\n",
      "Model: [6363.67583724], Actual: 7106\n",
      "Model: [3560.59184104], Actual: 3234\n",
      "Model: [967.70665467], Actual: 810\n",
      "Model: [5208.46043843], Actual: 4909\n",
      "Model: [1094.02139691], Actual: 741\n",
      "Model: [3094.15536865], Actual: 2322\n",
      "Model: [2833.07290144], Actual: 3196\n",
      "Model: [2715.03150601], Actual: 2093\n"
     ]
    }
   ],
   "source": [
    "for X,y in zip(X_test, y_test):\n",
    "    print(f\"Model: {clf.predict([X])}, Actual: {y}\")\n",
    "    "
   ]
  },
  {
   "cell_type": "markdown",
   "id": "2768cf3d-02ff-4699-b0f7-40d864ae9461",
   "metadata": {},
   "source": [
    "Testiamo un altro modello!"
   ]
  },
  {
   "cell_type": "code",
   "execution_count": 84,
   "id": "9a76f331-5367-4132-9a8a-e15598a6c9b9",
   "metadata": {},
   "outputs": [
    {
     "data": {
      "text/plain": [
       "SVR()"
      ]
     },
     "execution_count": 84,
     "metadata": {},
     "output_type": "execute_result"
    }
   ],
   "source": [
    "clf = svm.SVR(kernel=\"rbf\")\n",
    "clf.fit(X_train, y_train)"
   ]
  },
  {
   "cell_type": "code",
   "execution_count": 85,
   "id": "834b9124-9473-4791-af0b-0db6a7443769",
   "metadata": {},
   "outputs": [
    {
     "data": {
      "text/plain": [
       "0.6407873072161727"
      ]
     },
     "execution_count": 85,
     "metadata": {},
     "output_type": "execute_result"
    }
   ],
   "source": [
    "clf.score(X_test, y_test)"
   ]
  },
  {
   "cell_type": "code",
   "execution_count": 86,
   "id": "fa592503-de90-4003-a229-6818b6e2719b",
   "metadata": {},
   "outputs": [
    {
     "name": "stdout",
     "output_type": "stream",
     "text": [
      "Model: [3283.35443205], Actual: 3093\n",
      "Model: [1212.49381085], Actual: 881\n",
      "Model: [5503.97079347], Actual: 13200\n",
      "Model: [6185.42992763], Actual: 14130\n",
      "Model: [6564.64363937], Actual: 8033\n",
      "Model: [1710.75887773], Actual: 1577\n",
      "Model: [1080.27450262], Actual: 990\n",
      "Model: [5071.05628882], Actual: 6479\n",
      "Model: [1109.77898257], Actual: 827\n",
      "Model: [858.22636889], Actual: 743\n",
      "Model: [1544.31621247], Actual: 1439\n",
      "Model: [884.26799853], Actual: 842\n",
      "Model: [722.61033461], Actual: 556\n",
      "Model: [1061.53734915], Actual: 462\n",
      "Model: [991.86497341], Actual: 912\n",
      "Model: [4917.38718935], Actual: 4421\n",
      "Model: [3398.79108293], Actual: 3087\n",
      "Model: [6270.97536075], Actual: 10138\n",
      "Model: [2902.12187111], Actual: 2753\n",
      "Model: [6403.72046795], Actual: 6363\n",
      "Model: [4657.19793438], Actual: 4876\n",
      "Model: [6927.68021207], Actual: 8777\n",
      "Model: [5821.59914859], Actual: 7412\n",
      "Model: [591.91335578], Actual: 720\n",
      "Model: [1121.1681425], Actual: 965\n",
      "Model: [1055.89830077], Actual: 982\n",
      "Model: [5074.25158961], Actual: 5292\n",
      "Model: [4628.20489483], Actual: 5051\n",
      "Model: [2510.18978295], Actual: 2138\n",
      "Model: [1023.9381448], Actual: 758\n",
      "Model: [800.59243472], Actual: 761\n",
      "Model: [5138.3122108], Actual: 6468\n",
      "Model: [1206.66111663], Actual: 1637\n",
      "Model: [1786.75097613], Actual: 1868\n",
      "Model: [3821.58775118], Actual: 3879\n",
      "Model: [578.18921195], Actual: 795\n",
      "Model: [606.15858157], Actual: 445\n",
      "Model: [4161.27403814], Actual: 3234\n",
      "Model: [5831.38187098], Actual: 13069\n",
      "Model: [2486.40661478], Actual: 2252\n",
      "Model: [1409.17439679], Actual: 1358\n",
      "Model: [2476.18820239], Actual: 2072\n",
      "Model: [1099.14131619], Actual: 756\n",
      "Model: [2651.32355153], Actual: 2806\n",
      "Model: [706.23139425], Actual: 526\n",
      "Model: [2081.79108187], Actual: 1914\n",
      "Model: [2383.37132874], Actual: 1814\n",
      "Model: [709.30892609], Actual: 702\n",
      "Model: [1846.96502253], Actual: 680\n",
      "Model: [747.83203544], Actual: 907\n",
      "Model: [3416.01840669], Actual: 3058\n",
      "Model: [1539.16305722], Actual: 1148\n",
      "Model: [1168.30179208], Actual: 854\n",
      "Model: [916.09659521], Actual: 975\n",
      "Model: [915.64622125], Actual: 709\n",
      "Model: [3842.82717996], Actual: 4435\n",
      "Model: [1142.84425023], Actual: 1013\n",
      "Model: [5132.62541432], Actual: 4140\n",
      "Model: [4590.00233939], Actual: 5809\n",
      "Model: [481.13601878], Actual: 537\n",
      "Model: [2121.89277792], Actual: 2527\n",
      "Model: [2100.01839667], Actual: 1637\n",
      "Model: [3083.06903111], Actual: 2708\n",
      "Model: [5152.84949484], Actual: 5938\n",
      "Model: [4142.37678952], Actual: 3098\n",
      "Model: [677.56774165], Actual: 595\n",
      "Model: [5066.07327373], Actual: 10179\n",
      "Model: [7366.90284672], Actual: 15014\n",
      "Model: [7395.53966014], Actual: 12437\n",
      "Model: [1113.99700307], Actual: 1098\n",
      "Model: [1583.27863148], Actual: 596\n",
      "Model: [2837.60856795], Actual: 2726\n",
      "Model: [1199.99122486], Actual: 1316\n",
      "Model: [506.73161116], Actual: 605\n",
      "Model: [5953.28597391], Actual: 16709\n",
      "Model: [1841.68332714], Actual: 1698\n",
      "Model: [3668.84020913], Actual: 3776\n",
      "Model: [5311.65869837], Actual: 9680\n",
      "Model: [4458.88270861], Actual: 3774\n",
      "Model: [5823.8294162], Actual: 10514\n",
      "Model: [366.98063706], Actual: 612\n",
      "Model: [6560.21553547], Actual: 11369\n",
      "Model: [1980.47829416], Actual: 1886\n",
      "Model: [1005.12664947], Actual: 769\n",
      "Model: [7462.94693328], Actual: 15966\n",
      "Model: [2211.82975142], Actual: 938\n",
      "Model: [2708.74290626], Actual: 2481\n",
      "Model: [7044.33287498], Actual: 13844\n",
      "Model: [871.39487971], Actual: 607\n",
      "Model: [3708.34345127], Actual: 3713\n",
      "Model: [4258.49970521], Actual: 4592\n",
      "Model: [1166.20007313], Actual: 1046\n",
      "Model: [1659.15707456], Actual: 1227\n",
      "Model: [2721.29682428], Actual: 2552\n",
      "Model: [2242.72274429], Actual: 2057\n",
      "Model: [5179.61451646], Actual: 6974\n",
      "Model: [1914.45295574], Actual: 1949\n",
      "Model: [891.5203804], Actual: 814\n",
      "Model: [725.57675266], Actual: 689\n",
      "Model: [5069.38596424], Actual: 7168\n",
      "Model: [5598.60095356], Actual: 6121\n",
      "Model: [553.13240615], Actual: 942\n",
      "Model: [4303.1250515], Actual: 4136\n",
      "Model: [4795.12650183], Actual: 4956\n",
      "Model: [2507.01416893], Actual: 2850\n",
      "Model: [1444.1385602], Actual: 1559\n",
      "Model: [4342.89144374], Actual: 4241\n",
      "Model: [4445.4723923], Actual: 6651\n",
      "Model: [2500.80694789], Actual: 2246\n",
      "Model: [2042.81282269], Actual: 1980\n",
      "Model: [801.05747899], Actual: 754\n",
      "Model: [652.81245209], Actual: 833\n",
      "Model: [3632.24265312], Actual: 3312\n",
      "Model: [2908.64456772], Actual: 2151\n",
      "Model: [6014.85323427], Actual: 5631\n",
      "Model: [4199.95120824], Actual: 4583\n",
      "Model: [6678.66987447], Actual: 14350\n",
      "Model: [3199.33379484], Actual: 3840\n",
      "Model: [4984.29312357], Actual: 5659\n",
      "Model: [1645.09000068], Actual: 1720\n",
      "Model: [3924.96353791], Actual: 5411\n",
      "Model: [4668.19431347], Actual: 5622\n",
      "Model: [1593.80047757], Actual: 1422\n",
      "Model: [2880.41337163], Actual: 2489\n",
      "Model: [713.0397045], Actual: 506\n",
      "Model: [915.10269645], Actual: 657\n",
      "Model: [731.83580291], Actual: 746\n",
      "Model: [6420.20392478], Actual: 18066\n",
      "Model: [6951.23733888], Actual: 10790\n",
      "Model: [4079.67858486], Actual: 4561\n",
      "Model: [5553.54264803], Actual: 4643\n",
      "Model: [482.02438724], Actual: 561\n",
      "Model: [1591.14553788], Actual: 574\n",
      "Model: [543.00109873], Actual: 867\n",
      "Model: [724.9125863], Actual: 702\n",
      "Model: [4027.85502299], Actual: 7392\n",
      "Model: [1149.53885764], Actual: 755\n",
      "Model: [3301.65584281], Actual: 3945\n",
      "Model: [6041.8503504], Actual: 8364\n",
      "Model: [1011.76887065], Actual: 807\n",
      "Model: [912.0543448], Actual: 684\n",
      "Model: [6356.49562981], Actual: 9530\n",
      "Model: [5936.00684294], Actual: 8726\n",
      "Model: [5959.24163777], Actual: 13865\n",
      "Model: [3746.92026349], Actual: 3119\n",
      "Model: [2976.37597028], Actual: 2275\n",
      "Model: [3358.52409939], Actual: 3061\n",
      "Model: [623.44124491], Actual: 569\n",
      "Model: [820.95722379], Actual: 776\n",
      "Model: [3439.58547573], Actual: 3705\n",
      "Model: [680.93867274], Actual: 802\n",
      "Model: [1163.20769031], Actual: 421\n",
      "Model: [1092.50306492], Actual: 954\n",
      "Model: [1596.0377485], Actual: 1787\n",
      "Model: [442.80291714], Actual: 605\n",
      "Model: [5634.94051066], Actual: 10609\n",
      "Model: [1538.44917866], Actual: 1574\n",
      "Model: [6332.80489648], Actual: 7631\n",
      "Model: [2370.85305928], Actual: 2121\n",
      "Model: [1250.41863265], Actual: 1238\n",
      "Model: [6331.80589781], Actual: 10255\n",
      "Model: [5056.86961572], Actual: 4847\n",
      "Model: [2668.75162696], Actual: 2416\n",
      "Model: [4142.82619754], Actual: 3669\n",
      "Model: [5787.77758146], Actual: 5914\n",
      "Model: [1169.88952936], Actual: 1076\n",
      "Model: [1003.45317225], Actual: 523\n",
      "Model: [4148.45124478], Actual: 6315\n",
      "Model: [873.58213844], Actual: 1143\n",
      "Model: [874.5124967], Actual: 672\n",
      "Model: [1137.32979007], Actual: 730\n",
      "Model: [840.7895209], Actual: 1074\n",
      "Model: [1131.60040755], Actual: 827\n",
      "Model: [3023.10755467], Actual: 3034\n",
      "Model: [1112.33783196], Actual: 530\n",
      "Model: [1321.88330075], Actual: 1409\n",
      "Model: [4412.06106112], Actual: 4879\n",
      "Model: [1421.44408954], Actual: 918\n",
      "Model: [7370.59016047], Actual: 9699\n",
      "Model: [5697.96997481], Actual: 8294\n",
      "Model: [1010.70245105], Actual: 967\n",
      "Model: [2399.49448976], Actual: 2394\n",
      "Model: [1248.65436643], Actual: 772\n",
      "Model: [5305.47093055], Actual: 7032\n",
      "Model: [4007.42090979], Actual: 4475\n",
      "Model: [958.89635642], Actual: 911\n",
      "Model: [1833.39143854], Actual: 949\n",
      "Model: [1453.57081962], Actual: 1018\n",
      "Model: [5543.4458509], Actual: 5254\n",
      "Model: [2056.27752848], Actual: 1680\n",
      "Model: [7334.56971926], Actual: 11177\n",
      "Model: [6257.6322014], Actual: 6683\n",
      "Model: [6543.37779968], Actual: 7106\n",
      "Model: [3232.22370801], Actual: 3234\n",
      "Model: [1043.46737078], Actual: 810\n",
      "Model: [4888.12901374], Actual: 4909\n",
      "Model: [1133.87402231], Actual: 741\n",
      "Model: [3145.8332843], Actual: 2322\n",
      "Model: [2510.12516427], Actual: 3196\n",
      "Model: [2849.00513086], Actual: 2093\n"
     ]
    }
   ],
   "source": [
    "for X,y in zip(X_test, y_test):\n",
    "    print(f\"Model: {clf.predict([X])}, Actual: {y}\")"
   ]
  },
  {
   "cell_type": "markdown",
   "id": "223b5842-9dfb-48ae-80b7-0f5518727d59",
   "metadata": {},
   "source": [
    "**BONUS:** Si potrebbero usare più classifier e alla fine fare una media delle prestazioni!"
   ]
  },
  {
   "cell_type": "code",
   "execution_count": null,
   "id": "7e57e7b4-3fc4-47f9-bd57-345cd5d4d923",
   "metadata": {},
   "outputs": [],
   "source": []
  }
 ],
 "metadata": {
  "kernelspec": {
   "display_name": "Python 3 (ipykernel)",
   "language": "python",
   "name": "python3"
  },
  "language_info": {
   "codemirror_mode": {
    "name": "ipython",
    "version": 3
   },
   "file_extension": ".py",
   "mimetype": "text/x-python",
   "name": "python",
   "nbconvert_exporter": "python",
   "pygments_lexer": "ipython3",
   "version": "3.9.9"
  }
 },
 "nbformat": 4,
 "nbformat_minor": 5
}
