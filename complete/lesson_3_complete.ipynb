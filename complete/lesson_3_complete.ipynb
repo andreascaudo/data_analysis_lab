{
 "cells": [
  {
   "cell_type": "markdown",
   "id": "31e6d9e4-cebc-439e-a26a-acc312d17a99",
   "metadata": {},
   "source": [
    "# Parte 3 - Machine Learning Workflow"
   ]
  },
  {
   "cell_type": "markdown",
   "id": "0eef1d17-6ebc-41c2-8942-46314e5ce4d7",
   "metadata": {},
   "source": [
    "Datasets: [Diamanti](https://www.kaggle.com/shivam2503/diamonds)"
   ]
  },
  {
   "cell_type": "markdown",
   "id": "d8da14e5-8db5-4726-9ce8-9f7802c0a561",
   "metadata": {},
   "source": [
    "**OBBIETTVO:** In base alle sue caratteristiche provare a predire il prezzo di un diamante <br>\n",
    "Utilizzeremo la libreria python **scikit-learn** per testare alcuni algoritmi di classificiazione!"
   ]
  },
  {
   "cell_type": "code",
   "execution_count": 1,
   "id": "02bd4460-6f6e-4089-b204-95194f27903f",
   "metadata": {},
   "outputs": [],
   "source": [
    "import pandas as pd\n",
    "import numpy as np\n",
    "\n",
    "import sklearn\n",
    "from sklearn import svm, preprocessing\n",
    "\n",
    "diamond_df = pd.read_csv(\"../datasets/diamonds.csv\", index_col = 0)"
   ]
  },
  {
   "cell_type": "code",
   "execution_count": 2,
   "id": "da764bd1-4459-4f00-9c90-5f22ef041e96",
   "metadata": {},
   "outputs": [
    {
     "data": {
      "text/html": [
       "<div>\n",
       "<style scoped>\n",
       "    .dataframe tbody tr th:only-of-type {\n",
       "        vertical-align: middle;\n",
       "    }\n",
       "\n",
       "    .dataframe tbody tr th {\n",
       "        vertical-align: top;\n",
       "    }\n",
       "\n",
       "    .dataframe thead th {\n",
       "        text-align: right;\n",
       "    }\n",
       "</style>\n",
       "<table border=\"1\" class=\"dataframe\">\n",
       "  <thead>\n",
       "    <tr style=\"text-align: right;\">\n",
       "      <th></th>\n",
       "      <th>carat</th>\n",
       "      <th>cut</th>\n",
       "      <th>color</th>\n",
       "      <th>clarity</th>\n",
       "      <th>depth</th>\n",
       "      <th>table</th>\n",
       "      <th>price</th>\n",
       "      <th>x</th>\n",
       "      <th>y</th>\n",
       "      <th>z</th>\n",
       "    </tr>\n",
       "  </thead>\n",
       "  <tbody>\n",
       "    <tr>\n",
       "      <th>1</th>\n",
       "      <td>0.23</td>\n",
       "      <td>Ideal</td>\n",
       "      <td>E</td>\n",
       "      <td>SI2</td>\n",
       "      <td>61.5</td>\n",
       "      <td>55.0</td>\n",
       "      <td>326</td>\n",
       "      <td>3.95</td>\n",
       "      <td>3.98</td>\n",
       "      <td>2.43</td>\n",
       "    </tr>\n",
       "    <tr>\n",
       "      <th>2</th>\n",
       "      <td>0.21</td>\n",
       "      <td>Premium</td>\n",
       "      <td>E</td>\n",
       "      <td>SI1</td>\n",
       "      <td>59.8</td>\n",
       "      <td>61.0</td>\n",
       "      <td>326</td>\n",
       "      <td>3.89</td>\n",
       "      <td>3.84</td>\n",
       "      <td>2.31</td>\n",
       "    </tr>\n",
       "    <tr>\n",
       "      <th>3</th>\n",
       "      <td>0.23</td>\n",
       "      <td>Good</td>\n",
       "      <td>E</td>\n",
       "      <td>VS1</td>\n",
       "      <td>56.9</td>\n",
       "      <td>65.0</td>\n",
       "      <td>327</td>\n",
       "      <td>4.05</td>\n",
       "      <td>4.07</td>\n",
       "      <td>2.31</td>\n",
       "    </tr>\n",
       "    <tr>\n",
       "      <th>4</th>\n",
       "      <td>0.29</td>\n",
       "      <td>Premium</td>\n",
       "      <td>I</td>\n",
       "      <td>VS2</td>\n",
       "      <td>62.4</td>\n",
       "      <td>58.0</td>\n",
       "      <td>334</td>\n",
       "      <td>4.20</td>\n",
       "      <td>4.23</td>\n",
       "      <td>2.63</td>\n",
       "    </tr>\n",
       "    <tr>\n",
       "      <th>5</th>\n",
       "      <td>0.31</td>\n",
       "      <td>Good</td>\n",
       "      <td>J</td>\n",
       "      <td>SI2</td>\n",
       "      <td>63.3</td>\n",
       "      <td>58.0</td>\n",
       "      <td>335</td>\n",
       "      <td>4.34</td>\n",
       "      <td>4.35</td>\n",
       "      <td>2.75</td>\n",
       "    </tr>\n",
       "  </tbody>\n",
       "</table>\n",
       "</div>"
      ],
      "text/plain": [
       "   carat      cut color clarity  depth  table  price     x     y     z\n",
       "1   0.23    Ideal     E     SI2   61.5   55.0    326  3.95  3.98  2.43\n",
       "2   0.21  Premium     E     SI1   59.8   61.0    326  3.89  3.84  2.31\n",
       "3   0.23     Good     E     VS1   56.9   65.0    327  4.05  4.07  2.31\n",
       "4   0.29  Premium     I     VS2   62.4   58.0    334  4.20  4.23  2.63\n",
       "5   0.31     Good     J     SI2   63.3   58.0    335  4.34  4.35  2.75"
      ]
     },
     "execution_count": 2,
     "metadata": {},
     "output_type": "execute_result"
    }
   ],
   "source": [
    "diamond_df.head()"
   ]
  },
  {
   "cell_type": "markdown",
   "id": "1acfa5a7-480c-43b7-a25c-6bfc85f0dc38",
   "metadata": {},
   "source": [
    "**Quale modello algoritmo di classificazione dovremmo utilizzare?**\n",
    "\n",
    "[Come scegliere il corretto algoritmo](https://scikit-learn.org/stable/tutorial/machine_learning_map/index.html)"
   ]
  },
  {
   "cell_type": "code",
   "execution_count": 3,
   "id": "538bf87f-9297-4935-a6a0-24e0f2c32899",
   "metadata": {},
   "outputs": [
    {
     "data": {
      "text/plain": [
       "53940"
      ]
     },
     "execution_count": 3,
     "metadata": {},
     "output_type": "execute_result"
    }
   ],
   "source": [
    "len(diamond_df)"
   ]
  },
  {
   "cell_type": "markdown",
   "id": "ba722153-31ca-422e-8de0-a17d6387fc5b",
   "metadata": {},
   "source": [
    "## Linear Regression"
   ]
  },
  {
   "cell_type": "markdown",
   "id": "5316f475-b007-4bf9-9221-c69795004cab",
   "metadata": {},
   "source": [
    "<img src=\"../images/regression_1.jpeg\" alt=\"Drawing\" style=\"width: 545px;\"/><img src=\"../images/regression_2.jpeg\" alt=\"Drawing\" style=\"width: 500px;\"/> <br> Per utilizzare la Linear Regression deve esserci una relazione lineare tra i dati"
   ]
  },
  {
   "cell_type": "markdown",
   "id": "550b749c-bad3-4fc0-be5b-a8222cc3784f",
   "metadata": {},
   "source": [
    "<img src=\"../images/regression_3.png\" alt=\"Drawing\" style=\"width: 545px;\"/> "
   ]
  },
  {
   "cell_type": "markdown",
   "id": "ef670065-8ed7-41ed-bf18-341a5db48f05",
   "metadata": {},
   "source": [
    "[Least Square Method](https://www.varsitytutors.com/hotmath/hotmath_help/topics/line-of-best-fit)"
   ]
  },
  {
   "cell_type": "markdown",
   "id": "30b4f576-6814-4804-9491-69a8439a7347",
   "metadata": {},
   "source": [
    "Come si definisce la best fit line? <br>"
   ]
  },
  {
   "cell_type": "markdown",
   "id": "27cbfffb-8e91-4636-b234-23f6723b4eb5",
   "metadata": {},
   "source": [
    "$$Y = mx + b$$"
   ]
  },
  {
   "cell_type": "markdown",
   "id": "f280d1b3-1e05-42c1-9501-1e357c36c67c",
   "metadata": {},
   "source": [
    "Data una X dobbiamo trovare la sua Y corrispondente, ma prima dobbiamo risolvere _m_ e _b_:"
   ]
  },
  {
   "cell_type": "markdown",
   "id": "8eb8a9ff-2699-4502-92bc-b4c52a2fa439",
   "metadata": {},
   "source": [
    "_m_ è la pendenza<br>\n",
    "_b_ è l'intersezione di y"
   ]
  },
  {
   "cell_type": "markdown",
   "id": "434c9f91-0de9-4d92-9196-f6898125afe4",
   "metadata": {},
   "source": [
    "$$m = \\frac{\\overline{x}\\cdot\\overline{y} - \\overline{xy}}{(\\overline{x})^2-\\overline{x^2}}$$"
   ]
  },
  {
   "cell_type": "markdown",
   "id": "f00e30a6-3a40-4658-aa46-8b2f5b46aebe",
   "metadata": {},
   "source": [
    "$$b = \\overline{y}-m\\overline{x} $$"
   ]
  },
  {
   "cell_type": "markdown",
   "id": "ee4af367-a2ed-438b-9d83-c28c77355ef7",
   "metadata": {},
   "source": [
    "In questo caso abbiamo dati su 2 dimensioni, ma appena incrementiamo la dimensione dello spazio verriale incrementerà anche la complessità dei calcoli"
   ]
  },
  {
   "cell_type": "markdown",
   "id": "32b8d380-c290-4b83-99ab-769be39683b8",
   "metadata": {},
   "source": [
    "**Per allenare il nostro modello vogliamo utilizzare tutti i paramentri tranne il prezzo**"
   ]
  },
  {
   "cell_type": "code",
   "execution_count": 4,
   "id": "d0a33bef-abda-447f-9063-7aa8a782459f",
   "metadata": {},
   "outputs": [
    {
     "data": {
      "text/plain": [
       "array(['Ideal', 'Premium', 'Good', 'Very Good', 'Fair'], dtype=object)"
      ]
     },
     "execution_count": 4,
     "metadata": {},
     "output_type": "execute_result"
    }
   ],
   "source": [
    "diamond_df[\"cut\"].unique()"
   ]
  },
  {
   "cell_type": "markdown",
   "id": "5199fc84-35cb-4bab-92e9-e7de26effa0f",
   "metadata": {},
   "source": [
    "Abbiamo bisogno di categorie numeriche!"
   ]
  },
  {
   "cell_type": "code",
   "execution_count": 5,
   "id": "fbaeea25-510c-480f-8d46-586a18c14478",
   "metadata": {},
   "outputs": [
    {
     "data": {
      "text/plain": [
       "1        2\n",
       "2        3\n",
       "3        1\n",
       "4        3\n",
       "5        1\n",
       "        ..\n",
       "53936    2\n",
       "53937    1\n",
       "53938    4\n",
       "53939    3\n",
       "53940    2\n",
       "Length: 53940, dtype: int8"
      ]
     },
     "execution_count": 5,
     "metadata": {},
     "output_type": "execute_result"
    }
   ],
   "source": [
    "diamond_df[\"cut\"].astype(\"category\").cat.codes"
   ]
  },
  {
   "cell_type": "markdown",
   "id": "018345c0-2052-474c-a2f8-6dd2d0fe035a",
   "metadata": {},
   "source": [
    "**Problema**: Dobbiamo preservare il significato delle labels: per esempio Premium sarà migliore di Fair e così via.."
   ]
  },
  {
   "cell_type": "code",
   "execution_count": 6,
   "id": "0bc7c7cd-25f0-4aae-af8f-4aaa7c920d8b",
   "metadata": {},
   "outputs": [],
   "source": [
    "cut_dizionario = {\"Fair\":1, \"Good\":2, \"Very Good\":3, \"Premium\":4, \"Ideal\":5}"
   ]
  },
  {
   "cell_type": "markdown",
   "id": "32b1c9e9-f622-4fc5-ade7-2bef7940ec95",
   "metadata": {},
   "source": [
    "Stessa cosa per:"
   ]
  },
  {
   "cell_type": "code",
   "execution_count": 7,
   "id": "c06de3a3-a299-4f90-9915-edce8b8a46b5",
   "metadata": {},
   "outputs": [],
   "source": [
    "clarity_dizionario = {\"I3\": 1, \"I2\": 2, \"I1\": 3, \"SI2\": 4, \"SI1\": 5, \"VS2\": 6, \"VS1\": 7, \"VVS2\": 8, \"VVS1\": 9, \"IF\": 10, \"FL\": 11}\n",
    "color_dizionario = {\"J\": 1,\"I\": 2,\"H\": 3,\"G\": 4,\"F\": 5,\"E\": 6,\"D\": 7}"
   ]
  },
  {
   "cell_type": "markdown",
   "id": "3477e5e1-ebdb-4857-86db-a5052547fe59",
   "metadata": {},
   "source": [
    "Bisognerà mappare queste classi alle varie colonne del dataset"
   ]
  },
  {
   "cell_type": "code",
   "execution_count": 8,
   "id": "1e3f62d1-56fa-4665-ae4b-781e9e4960ac",
   "metadata": {},
   "outputs": [],
   "source": [
    "diamond_df['cut'] = diamond_df['cut'].map(cut_dizionario)"
   ]
  },
  {
   "cell_type": "markdown",
   "id": "8fd0cfba-05b8-43d2-9a6c-0f66415a1ee4",
   "metadata": {},
   "source": [
    "## Esercizio 13:\n",
    "- Mappare le colonne \"clarity\" e \"color\" con i rispettivi dizionari!"
   ]
  },
  {
   "cell_type": "code",
   "execution_count": 9,
   "id": "c4bb93a9-26b6-4da4-ab79-c84f2a6ffc56",
   "metadata": {},
   "outputs": [],
   "source": [
    "#Esercizio\n",
    "diamond_df['clarity'] = diamond_df['clarity'].map(clarity_dizionario)\n",
    "diamond_df['color'] = diamond_df['color'].map(color_dizionario)"
   ]
  },
  {
   "cell_type": "code",
   "execution_count": 10,
   "id": "bc658455-01f5-4b06-9779-8698c27d35be",
   "metadata": {},
   "outputs": [
    {
     "data": {
      "text/html": [
       "<div>\n",
       "<style scoped>\n",
       "    .dataframe tbody tr th:only-of-type {\n",
       "        vertical-align: middle;\n",
       "    }\n",
       "\n",
       "    .dataframe tbody tr th {\n",
       "        vertical-align: top;\n",
       "    }\n",
       "\n",
       "    .dataframe thead th {\n",
       "        text-align: right;\n",
       "    }\n",
       "</style>\n",
       "<table border=\"1\" class=\"dataframe\">\n",
       "  <thead>\n",
       "    <tr style=\"text-align: right;\">\n",
       "      <th></th>\n",
       "      <th>carat</th>\n",
       "      <th>cut</th>\n",
       "      <th>color</th>\n",
       "      <th>clarity</th>\n",
       "      <th>depth</th>\n",
       "      <th>table</th>\n",
       "      <th>price</th>\n",
       "      <th>x</th>\n",
       "      <th>y</th>\n",
       "      <th>z</th>\n",
       "    </tr>\n",
       "  </thead>\n",
       "  <tbody>\n",
       "    <tr>\n",
       "      <th>1</th>\n",
       "      <td>0.23</td>\n",
       "      <td>5</td>\n",
       "      <td>6</td>\n",
       "      <td>4</td>\n",
       "      <td>61.5</td>\n",
       "      <td>55.0</td>\n",
       "      <td>326</td>\n",
       "      <td>3.95</td>\n",
       "      <td>3.98</td>\n",
       "      <td>2.43</td>\n",
       "    </tr>\n",
       "    <tr>\n",
       "      <th>2</th>\n",
       "      <td>0.21</td>\n",
       "      <td>4</td>\n",
       "      <td>6</td>\n",
       "      <td>5</td>\n",
       "      <td>59.8</td>\n",
       "      <td>61.0</td>\n",
       "      <td>326</td>\n",
       "      <td>3.89</td>\n",
       "      <td>3.84</td>\n",
       "      <td>2.31</td>\n",
       "    </tr>\n",
       "    <tr>\n",
       "      <th>3</th>\n",
       "      <td>0.23</td>\n",
       "      <td>2</td>\n",
       "      <td>6</td>\n",
       "      <td>7</td>\n",
       "      <td>56.9</td>\n",
       "      <td>65.0</td>\n",
       "      <td>327</td>\n",
       "      <td>4.05</td>\n",
       "      <td>4.07</td>\n",
       "      <td>2.31</td>\n",
       "    </tr>\n",
       "    <tr>\n",
       "      <th>4</th>\n",
       "      <td>0.29</td>\n",
       "      <td>4</td>\n",
       "      <td>2</td>\n",
       "      <td>6</td>\n",
       "      <td>62.4</td>\n",
       "      <td>58.0</td>\n",
       "      <td>334</td>\n",
       "      <td>4.20</td>\n",
       "      <td>4.23</td>\n",
       "      <td>2.63</td>\n",
       "    </tr>\n",
       "    <tr>\n",
       "      <th>5</th>\n",
       "      <td>0.31</td>\n",
       "      <td>2</td>\n",
       "      <td>1</td>\n",
       "      <td>4</td>\n",
       "      <td>63.3</td>\n",
       "      <td>58.0</td>\n",
       "      <td>335</td>\n",
       "      <td>4.34</td>\n",
       "      <td>4.35</td>\n",
       "      <td>2.75</td>\n",
       "    </tr>\n",
       "  </tbody>\n",
       "</table>\n",
       "</div>"
      ],
      "text/plain": [
       "   carat  cut  color  clarity  depth  table  price     x     y     z\n",
       "1   0.23    5      6        4   61.5   55.0    326  3.95  3.98  2.43\n",
       "2   0.21    4      6        5   59.8   61.0    326  3.89  3.84  2.31\n",
       "3   0.23    2      6        7   56.9   65.0    327  4.05  4.07  2.31\n",
       "4   0.29    4      2        6   62.4   58.0    334  4.20  4.23  2.63\n",
       "5   0.31    2      1        4   63.3   58.0    335  4.34  4.35  2.75"
      ]
     },
     "execution_count": 10,
     "metadata": {},
     "output_type": "execute_result"
    }
   ],
   "source": [
    "diamond_df.head()"
   ]
  },
  {
   "cell_type": "markdown",
   "id": "fc356dfa-93eb-4a9e-92d5-19e06a311e32",
   "metadata": {},
   "source": [
    "Prima di allenare il nostro modello è importante mescolare i dati per evitare che si formi del biasing analizzando i dati in ordine.\n",
    "<br> Per esempio potrebbe essere, come nel nostro caso, che i dati siano ordinati per prezzo."
   ]
  },
  {
   "cell_type": "code",
   "execution_count": 11,
   "id": "371b804d-fec3-4146-b899-08bc0547c06a",
   "metadata": {},
   "outputs": [
    {
     "data": {
      "text/html": [
       "<div>\n",
       "<style scoped>\n",
       "    .dataframe tbody tr th:only-of-type {\n",
       "        vertical-align: middle;\n",
       "    }\n",
       "\n",
       "    .dataframe tbody tr th {\n",
       "        vertical-align: top;\n",
       "    }\n",
       "\n",
       "    .dataframe thead th {\n",
       "        text-align: right;\n",
       "    }\n",
       "</style>\n",
       "<table border=\"1\" class=\"dataframe\">\n",
       "  <thead>\n",
       "    <tr style=\"text-align: right;\">\n",
       "      <th></th>\n",
       "      <th>carat</th>\n",
       "      <th>cut</th>\n",
       "      <th>color</th>\n",
       "      <th>clarity</th>\n",
       "      <th>depth</th>\n",
       "      <th>table</th>\n",
       "      <th>price</th>\n",
       "      <th>x</th>\n",
       "      <th>y</th>\n",
       "      <th>z</th>\n",
       "    </tr>\n",
       "  </thead>\n",
       "  <tbody>\n",
       "    <tr>\n",
       "      <th>1</th>\n",
       "      <td>0.23</td>\n",
       "      <td>5</td>\n",
       "      <td>6</td>\n",
       "      <td>4</td>\n",
       "      <td>61.5</td>\n",
       "      <td>55.0</td>\n",
       "      <td>326</td>\n",
       "      <td>3.95</td>\n",
       "      <td>3.98</td>\n",
       "      <td>2.43</td>\n",
       "    </tr>\n",
       "    <tr>\n",
       "      <th>2</th>\n",
       "      <td>0.21</td>\n",
       "      <td>4</td>\n",
       "      <td>6</td>\n",
       "      <td>5</td>\n",
       "      <td>59.8</td>\n",
       "      <td>61.0</td>\n",
       "      <td>326</td>\n",
       "      <td>3.89</td>\n",
       "      <td>3.84</td>\n",
       "      <td>2.31</td>\n",
       "    </tr>\n",
       "    <tr>\n",
       "      <th>3</th>\n",
       "      <td>0.23</td>\n",
       "      <td>2</td>\n",
       "      <td>6</td>\n",
       "      <td>7</td>\n",
       "      <td>56.9</td>\n",
       "      <td>65.0</td>\n",
       "      <td>327</td>\n",
       "      <td>4.05</td>\n",
       "      <td>4.07</td>\n",
       "      <td>2.31</td>\n",
       "    </tr>\n",
       "    <tr>\n",
       "      <th>4</th>\n",
       "      <td>0.29</td>\n",
       "      <td>4</td>\n",
       "      <td>2</td>\n",
       "      <td>6</td>\n",
       "      <td>62.4</td>\n",
       "      <td>58.0</td>\n",
       "      <td>334</td>\n",
       "      <td>4.20</td>\n",
       "      <td>4.23</td>\n",
       "      <td>2.63</td>\n",
       "    </tr>\n",
       "    <tr>\n",
       "      <th>5</th>\n",
       "      <td>0.31</td>\n",
       "      <td>2</td>\n",
       "      <td>1</td>\n",
       "      <td>4</td>\n",
       "      <td>63.3</td>\n",
       "      <td>58.0</td>\n",
       "      <td>335</td>\n",
       "      <td>4.34</td>\n",
       "      <td>4.35</td>\n",
       "      <td>2.75</td>\n",
       "    </tr>\n",
       "    <tr>\n",
       "      <th>...</th>\n",
       "      <td>...</td>\n",
       "      <td>...</td>\n",
       "      <td>...</td>\n",
       "      <td>...</td>\n",
       "      <td>...</td>\n",
       "      <td>...</td>\n",
       "      <td>...</td>\n",
       "      <td>...</td>\n",
       "      <td>...</td>\n",
       "      <td>...</td>\n",
       "    </tr>\n",
       "    <tr>\n",
       "      <th>53936</th>\n",
       "      <td>0.72</td>\n",
       "      <td>5</td>\n",
       "      <td>7</td>\n",
       "      <td>5</td>\n",
       "      <td>60.8</td>\n",
       "      <td>57.0</td>\n",
       "      <td>2757</td>\n",
       "      <td>5.75</td>\n",
       "      <td>5.76</td>\n",
       "      <td>3.50</td>\n",
       "    </tr>\n",
       "    <tr>\n",
       "      <th>53937</th>\n",
       "      <td>0.72</td>\n",
       "      <td>2</td>\n",
       "      <td>7</td>\n",
       "      <td>5</td>\n",
       "      <td>63.1</td>\n",
       "      <td>55.0</td>\n",
       "      <td>2757</td>\n",
       "      <td>5.69</td>\n",
       "      <td>5.75</td>\n",
       "      <td>3.61</td>\n",
       "    </tr>\n",
       "    <tr>\n",
       "      <th>53938</th>\n",
       "      <td>0.70</td>\n",
       "      <td>3</td>\n",
       "      <td>7</td>\n",
       "      <td>5</td>\n",
       "      <td>62.8</td>\n",
       "      <td>60.0</td>\n",
       "      <td>2757</td>\n",
       "      <td>5.66</td>\n",
       "      <td>5.68</td>\n",
       "      <td>3.56</td>\n",
       "    </tr>\n",
       "    <tr>\n",
       "      <th>53939</th>\n",
       "      <td>0.86</td>\n",
       "      <td>4</td>\n",
       "      <td>3</td>\n",
       "      <td>4</td>\n",
       "      <td>61.0</td>\n",
       "      <td>58.0</td>\n",
       "      <td>2757</td>\n",
       "      <td>6.15</td>\n",
       "      <td>6.12</td>\n",
       "      <td>3.74</td>\n",
       "    </tr>\n",
       "    <tr>\n",
       "      <th>53940</th>\n",
       "      <td>0.75</td>\n",
       "      <td>5</td>\n",
       "      <td>7</td>\n",
       "      <td>4</td>\n",
       "      <td>62.2</td>\n",
       "      <td>55.0</td>\n",
       "      <td>2757</td>\n",
       "      <td>5.83</td>\n",
       "      <td>5.87</td>\n",
       "      <td>3.64</td>\n",
       "    </tr>\n",
       "  </tbody>\n",
       "</table>\n",
       "<p>53940 rows × 10 columns</p>\n",
       "</div>"
      ],
      "text/plain": [
       "       carat  cut  color  clarity  depth  table  price     x     y     z\n",
       "1       0.23    5      6        4   61.5   55.0    326  3.95  3.98  2.43\n",
       "2       0.21    4      6        5   59.8   61.0    326  3.89  3.84  2.31\n",
       "3       0.23    2      6        7   56.9   65.0    327  4.05  4.07  2.31\n",
       "4       0.29    4      2        6   62.4   58.0    334  4.20  4.23  2.63\n",
       "5       0.31    2      1        4   63.3   58.0    335  4.34  4.35  2.75\n",
       "...      ...  ...    ...      ...    ...    ...    ...   ...   ...   ...\n",
       "53936   0.72    5      7        5   60.8   57.0   2757  5.75  5.76  3.50\n",
       "53937   0.72    2      7        5   63.1   55.0   2757  5.69  5.75  3.61\n",
       "53938   0.70    3      7        5   62.8   60.0   2757  5.66  5.68  3.56\n",
       "53939   0.86    4      3        4   61.0   58.0   2757  6.15  6.12  3.74\n",
       "53940   0.75    5      7        4   62.2   55.0   2757  5.83  5.87  3.64\n",
       "\n",
       "[53940 rows x 10 columns]"
      ]
     },
     "execution_count": 11,
     "metadata": {},
     "output_type": "execute_result"
    }
   ],
   "source": [
    "diamond_df"
   ]
  },
  {
   "cell_type": "code",
   "execution_count": 12,
   "id": "8cb1020c-437d-4f30-b81e-6dde56ab1fa4",
   "metadata": {},
   "outputs": [],
   "source": [
    "diamond_df = sklearn.utils.shuffle(diamond_df)"
   ]
  },
  {
   "cell_type": "markdown",
   "id": "42385b0c-e303-49ad-ab52-094690a4773c",
   "metadata": {},
   "source": [
    "Separiamo il set di features dalla label che dobbiamo predire"
   ]
  },
  {
   "cell_type": "code",
   "execution_count": 13,
   "id": "c1a37114-b065-4e44-858a-86f3a1913c8d",
   "metadata": {},
   "outputs": [],
   "source": [
    "X = diamond_df.drop(\"price\", axis=1).values #Feature Set --> Ogni label tranne quella che dobbiamo predire\n",
    "y = diamond_df[\"price\"].values"
   ]
  },
  {
   "cell_type": "code",
   "execution_count": 14,
   "id": "daa20991-77ff-4551-85ac-3ccba9436f96",
   "metadata": {},
   "outputs": [
    {
     "data": {
      "text/plain": [
       "array([[0.36, 5.  , 5.  , ..., 4.57, 4.6 , 2.82],\n",
       "       [0.72, 5.  , 3.  , ..., 5.72, 5.76, 3.57],\n",
       "       [1.53, 3.  , 6.  , ..., 7.43, 7.51, 4.54],\n",
       "       ...,\n",
       "       [0.32, 5.  , 3.  , ..., 4.46, 4.42, 2.68],\n",
       "       [1.7 , 5.  , 2.  , ..., 7.57, 7.5 , 4.74],\n",
       "       [0.4 , 2.  , 5.  , ..., 4.69, 4.72, 2.91]])"
      ]
     },
     "execution_count": 14,
     "metadata": {},
     "output_type": "execute_result"
    }
   ],
   "source": [
    "X"
   ]
  },
  {
   "cell_type": "markdown",
   "id": "fb68f6af-ec90-42bc-ae55-120e42394d42",
   "metadata": {},
   "source": [
    "**Bonus**: Avremmo potuto barare caricando il dataframe con l'index, poiché il dataset era ordinato per prezzo e facendo ciò avremmo lasciato un informazione in più che avrebbe compromesso la nostra regressione, poiché l'indice sarebbe stato ordinato come il prezzo."
   ]
  },
  {
   "cell_type": "markdown",
   "id": "944025de-e1f2-4091-b73f-18536bcda150",
   "metadata": {},
   "source": [
    "**Preprocessing**: Permette di normalizzare i valori, in questo modo ridurremo la sparsità e il modello lavorerà con dati più uniformi con conseguente miglioramente nelle performance"
   ]
  },
  {
   "cell_type": "code",
   "execution_count": 15,
   "id": "5d9e3202-8113-42c8-9dde-49d227bf3393",
   "metadata": {},
   "outputs": [
    {
     "name": "stdout",
     "output_type": "stream",
     "text": [
      "16.59665167058048\n"
     ]
    }
   ],
   "source": [
    "print(np.mean(X))"
   ]
  },
  {
   "cell_type": "code",
   "execution_count": 16,
   "id": "d98c3fc2-4b0b-4909-8aac-4e1a2edd8f79",
   "metadata": {},
   "outputs": [],
   "source": [
    "X = preprocessing.scale(X) #Cerca"
   ]
  },
  {
   "cell_type": "code",
   "execution_count": 17,
   "id": "b9cd36e7-bfcb-453d-ae6b-4e3a977eb129",
   "metadata": {},
   "outputs": [
    {
     "name": "stdout",
     "output_type": "stream",
     "text": [
      "2.073404275280678e-16\n"
     ]
    }
   ],
   "source": [
    "print(np.mean(X))"
   ]
  },
  {
   "cell_type": "code",
   "execution_count": 18,
   "id": "b9d260ec-e611-48b0-854d-27c1c18254bc",
   "metadata": {},
   "outputs": [],
   "source": [
    "test_size = 200"
   ]
  },
  {
   "cell_type": "markdown",
   "id": "ab363a75-fe99-4a29-bc00-c28d2aacee3c",
   "metadata": {},
   "source": [
    "Il **train** è una porzione del dataset per cui il modello viene allenato\n",
    "\n",
    "Il **test** è una porzione del dataset che il nostro modello non vedrà mai, e sarà usato per valutarne le performance."
   ]
  },
  {
   "cell_type": "code",
   "execution_count": 19,
   "id": "fb024ca9-5ea6-4669-9149-de16785090ce",
   "metadata": {},
   "outputs": [],
   "source": [
    "X_train = X[:-test_size]\n",
    "y_train = y[:-test_size]\n",
    "\n",
    "X_test = X[-test_size:]\n",
    "y_test = y[-test_size:]"
   ]
  },
  {
   "cell_type": "markdown",
   "id": "29eb936f-c058-422e-88a7-69407c83a830",
   "metadata": {},
   "source": [
    "Nel caso utilizzassimo il dataset di test per allenare il modello l'accurattezza finale risulterebbe compromessa poiché i dati sono già stati visionati dal modello durante la fase di train, in questo modo non possiamo verificare tramite il test se il modello abbia realmente imparato a predire un valore o abbia solamente imparato a memoria il dataset di train. Per questo motivo i dati di test devono essere utilizzati solo per testare il modello!"
   ]
  },
  {
   "cell_type": "markdown",
   "id": "acc8f44b-4fbd-4962-bda5-a39cd7565871",
   "metadata": {},
   "source": [
    "Andiamo a selezionare il [modello](https://scikit-learn.org/stable/tutorial/machine_learning_map/index.html) da utilizzare"
   ]
  },
  {
   "cell_type": "code",
   "execution_count": 20,
   "id": "03e78dd1-576e-4c26-81e6-035657faeeea",
   "metadata": {},
   "outputs": [
    {
     "data": {
      "text/plain": [
       "SVR(kernel='linear')"
      ]
     },
     "execution_count": 20,
     "metadata": {},
     "output_type": "execute_result"
    }
   ],
   "source": [
    "clf = svm.SVR(kernel=\"linear\")\n",
    "clf.fit(X_train, y_train)"
   ]
  },
  {
   "cell_type": "code",
   "execution_count": 21,
   "id": "1edb0a96-ec75-4f8d-8e07-193d2ce760af",
   "metadata": {},
   "outputs": [
    {
     "data": {
      "text/plain": [
       "0.8414791342579695"
      ]
     },
     "execution_count": 21,
     "metadata": {},
     "output_type": "execute_result"
    }
   ],
   "source": [
    "clf.score(X_test, y_test)"
   ]
  },
  {
   "cell_type": "markdown",
   "id": "eef67a0a-3ec0-4208-bb9f-91d8ad04f1c1",
   "metadata": {},
   "source": [
    "Coefficiente di determinazione (R quadro): \n",
    "- 0.0 Caso peggiore \n",
    "- 1.0 Caso migliore\n",
    "\n",
    "Esso è calcolato partendo dall'errore quadratico medio"
   ]
  },
  {
   "cell_type": "markdown",
   "id": "ce064ba4-00d9-42e3-a60a-9f2fc2adbabd",
   "metadata": {},
   "source": [
    "Fin troppo bello per essere vero!"
   ]
  },
  {
   "cell_type": "markdown",
   "id": "97c7816d-5da1-4843-a695-c1408cc12818",
   "metadata": {},
   "source": [
    "Andiamo a verificare quello che è successo!"
   ]
  },
  {
   "cell_type": "code",
   "execution_count": 22,
   "id": "d20f755a-0442-4c29-8c12-6a067d8fba1e",
   "metadata": {},
   "outputs": [
    {
     "name": "stdout",
     "output_type": "stream",
     "text": [
      "Model: [2759.99918279], Actual: 2301\n",
      "Model: [68.6001562], Actual: 502\n",
      "Model: [558.61638693], Actual: 1000\n",
      "Model: [2251.0386317], Actual: 1928\n",
      "Model: [1.85988253], Actual: 605\n",
      "Model: [3222.6810463], Actual: 2681\n",
      "Model: [8719.06071473], Actual: 9557\n",
      "Model: [2850.84278289], Actual: 2057\n",
      "Model: [4507.0237187], Actual: 4360\n",
      "Model: [3369.20090063], Actual: 2763\n",
      "Model: [1433.35420337], Actual: 974\n",
      "Model: [912.69871768], Actual: 752\n",
      "Model: [1196.32607346], Actual: 844\n",
      "Model: [138.08955146], Actual: 748\n",
      "Model: [6548.81230762], Actual: 6552\n",
      "Model: [1758.43962677], Actual: 1356\n",
      "Model: [6498.59698363], Actual: 4278\n",
      "Model: [9996.72536659], Actual: 11737\n",
      "Model: [5277.61065347], Actual: 5706\n",
      "Model: [190.47019139], Actual: 776\n",
      "Model: [-66.14398432], Actual: 550\n",
      "Model: [4352.48547196], Actual: 4381\n",
      "Model: [3786.46435075], Actual: 3551\n",
      "Model: [5470.73125706], Actual: 6830\n",
      "Model: [5610.6528237], Actual: 5008\n",
      "Model: [170.2406006], Actual: 590\n",
      "Model: [77.90959764], Actual: 561\n",
      "Model: [-168.83362517], Actual: 462\n",
      "Model: [858.34631588], Actual: 1133\n",
      "Model: [6558.47409626], Actual: 5674\n",
      "Model: [6214.94372975], Actual: 6955\n",
      "Model: [5430.1699588], Actual: 3951\n",
      "Model: [3802.10394562], Actual: 4458\n",
      "Model: [1735.81127082], Actual: 1250\n",
      "Model: [704.80718307], Actual: 826\n",
      "Model: [3247.02755671], Actual: 3085\n",
      "Model: [-355.13526625], Actual: 506\n",
      "Model: [945.10617182], Actual: 1080\n",
      "Model: [13705.85817123], Actual: 18706\n",
      "Model: [380.75657037], Actual: 603\n",
      "Model: [8610.98408161], Actual: 9774\n",
      "Model: [4765.80498654], Actual: 4202\n",
      "Model: [590.53035733], Actual: 625\n",
      "Model: [5497.05536874], Actual: 5124\n",
      "Model: [4150.21959307], Actual: 4011\n",
      "Model: [869.58629466], Actual: 949\n",
      "Model: [5089.31265885], Actual: 4698\n",
      "Model: [12370.0463521], Actual: 18153\n",
      "Model: [6795.3570829], Actual: 7270\n",
      "Model: [4311.42246608], Actual: 3461\n",
      "Model: [1842.0952255], Actual: 1389\n",
      "Model: [4527.72454954], Actual: 4476\n",
      "Model: [1980.96272456], Actual: 1754\n",
      "Model: [4963.01608968], Actual: 4398\n",
      "Model: [5119.89707739], Actual: 5747\n",
      "Model: [1734.39106607], Actual: 1588\n",
      "Model: [1181.23957776], Actual: 1287\n",
      "Model: [689.81613588], Actual: 957\n",
      "Model: [3426.72190189], Actual: 2959\n",
      "Model: [325.70644958], Actual: 645\n",
      "Model: [920.50548932], Actual: 956\n",
      "Model: [10915.92419535], Actual: 10055\n",
      "Model: [8501.56362888], Actual: 8858\n",
      "Model: [4647.70404951], Actual: 4543\n",
      "Model: [1082.17770369], Actual: 863\n",
      "Model: [564.91268784], Actual: 544\n",
      "Model: [1978.1692631], Actual: 1707\n",
      "Model: [573.48377296], Actual: 636\n",
      "Model: [4716.06404105], Actual: 3686\n",
      "Model: [6386.42916215], Actual: 6713\n",
      "Model: [12036.47491747], Actual: 18487\n",
      "Model: [4531.30184192], Actual: 4052\n",
      "Model: [3240.47814571], Actual: 2940\n",
      "Model: [544.02577502], Actual: 485\n",
      "Model: [2812.18580516], Actual: 3004\n",
      "Model: [270.9159611], Actual: 844\n",
      "Model: [4318.19562697], Actual: 5027\n",
      "Model: [2204.9298132], Actual: 1948\n",
      "Model: [6202.9322518], Actual: 8061\n",
      "Model: [12016.4736857], Actual: 14704\n",
      "Model: [-70.79407233], Actual: 638\n",
      "Model: [2221.00969471], Actual: 1880\n",
      "Model: [5427.6026891], Actual: 7597\n",
      "Model: [398.42652481], Actual: 666\n",
      "Model: [5423.81014855], Actual: 7311\n",
      "Model: [1480.14412162], Actual: 1384\n",
      "Model: [10338.62246171], Actual: 13250\n",
      "Model: [8668.11558831], Actual: 11104\n",
      "Model: [4944.12743211], Actual: 5306\n",
      "Model: [2929.64945773], Actual: 2792\n",
      "Model: [3077.456674], Actual: 2717\n",
      "Model: [179.37007162], Actual: 507\n",
      "Model: [4689.31059404], Actual: 5616\n",
      "Model: [784.42935541], Actual: 783\n",
      "Model: [17.93577167], Actual: 675\n",
      "Model: [8316.06669417], Actual: 7559\n",
      "Model: [2113.62971186], Actual: 1766\n",
      "Model: [132.8836351], Actual: 743\n",
      "Model: [7263.30885075], Actual: 7714\n",
      "Model: [2080.11812976], Actual: 1622\n",
      "Model: [811.64349311], Actual: 867\n",
      "Model: [1212.53570045], Actual: 1053\n",
      "Model: [7662.83964655], Actual: 10575\n",
      "Model: [1726.11237782], Actual: 1656\n",
      "Model: [1092.33941031], Actual: 863\n",
      "Model: [9150.87097765], Actual: 14773\n",
      "Model: [-22.65505509], Actual: 516\n",
      "Model: [2386.81245003], Actual: 1936\n",
      "Model: [3349.40380646], Actual: 2604\n",
      "Model: [812.59776208], Actual: 810\n",
      "Model: [1522.29167926], Actual: 1265\n",
      "Model: [2448.25361143], Actual: 2001\n",
      "Model: [6204.74943013], Actual: 7113\n",
      "Model: [1132.01341025], Actual: 956\n",
      "Model: [3947.0135542], Actual: 2396\n",
      "Model: [5487.31132371], Actual: 6271\n",
      "Model: [5039.60409983], Actual: 5824\n",
      "Model: [18612.73816687], Actual: 6512\n",
      "Model: [4831.87158254], Actual: 5183\n",
      "Model: [9157.02502894], Actual: 11180\n",
      "Model: [1002.16822511], Actual: 795\n",
      "Model: [648.60337721], Actual: 706\n",
      "Model: [1622.81208153], Actual: 1578\n",
      "Model: [5249.46148875], Actual: 4362\n",
      "Model: [3538.01499322], Actual: 3150\n",
      "Model: [6267.00106931], Actual: 8564\n",
      "Model: [6.04336286], Actual: 605\n",
      "Model: [12165.90885118], Actual: 17953\n",
      "Model: [5170.75293967], Actual: 6271\n",
      "Model: [4033.81865711], Actual: 3950\n",
      "Model: [922.75068552], Actual: 1024\n",
      "Model: [5461.34827119], Actual: 5458\n",
      "Model: [1020.21298251], Actual: 956\n",
      "Model: [757.13317041], Actual: 710\n",
      "Model: [1343.67428302], Actual: 1115\n",
      "Model: [335.91723125], Actual: 756\n",
      "Model: [890.98391776], Actual: 739\n",
      "Model: [537.86721762], Actual: 734\n",
      "Model: [1290.96319602], Actual: 1301\n",
      "Model: [1518.26738322], Actual: 1569\n",
      "Model: [3692.85188197], Actual: 2862\n",
      "Model: [328.47201386], Actual: 658\n",
      "Model: [7065.95366543], Actual: 9756\n",
      "Model: [-275.41930831], Actual: 540\n",
      "Model: [1709.26232728], Actual: 1367\n",
      "Model: [2800.83060542], Actual: 2543\n",
      "Model: [1714.39100579], Actual: 1554\n",
      "Model: [11743.78190538], Actual: 10833\n",
      "Model: [343.00033135], Actual: 844\n",
      "Model: [623.06011241], Actual: 737\n",
      "Model: [494.67308145], Actual: 597\n",
      "Model: [5286.26153827], Actual: 6126\n",
      "Model: [3815.35486047], Actual: 3387\n",
      "Model: [386.90614467], Actual: 911\n",
      "Model: [2225.85024696], Actual: 1960\n",
      "Model: [2748.38770732], Actual: 2316\n",
      "Model: [4739.58765499], Actual: 5000\n",
      "Model: [3009.74553202], Actual: 2683\n",
      "Model: [161.26746322], Actual: 558\n",
      "Model: [4516.88979584], Actual: 4759\n",
      "Model: [4311.38634915], Actual: 3590\n",
      "Model: [12113.1992949], Actual: 11040\n",
      "Model: [375.18501631], Actual: 719\n",
      "Model: [3815.05925477], Actual: 4258\n",
      "Model: [-4.49822265], Actual: 675\n",
      "Model: [3845.2805507], Actual: 3442\n",
      "Model: [5238.53227757], Actual: 6652\n",
      "Model: [4866.90303566], Actual: 4273\n",
      "Model: [3656.67103779], Actual: 2732\n",
      "Model: [980.9894229], Actual: 882\n",
      "Model: [1675.88044904], Actual: 1445\n",
      "Model: [1563.34550748], Actual: 1292\n",
      "Model: [1547.22978664], Actual: 1654\n",
      "Model: [9263.56154139], Actual: 9251\n",
      "Model: [8681.57593617], Actual: 12068\n",
      "Model: [8987.31353425], Actual: 13110\n",
      "Model: [3372.11909329], Actual: 2873\n",
      "Model: [8852.91147634], Actual: 10122\n",
      "Model: [1832.16723636], Actual: 1689\n",
      "Model: [7256.83225138], Actual: 6190\n",
      "Model: [2845.90322962], Actual: 1828\n",
      "Model: [1104.49403669], Actual: 935\n",
      "Model: [5206.93098057], Actual: 4488\n",
      "Model: [2171.14232417], Actual: 2066\n",
      "Model: [2910.6548055], Actual: 2724\n",
      "Model: [2378.84120057], Actual: 2063\n",
      "Model: [4148.6301986], Actual: 3802\n",
      "Model: [5223.93867085], Actual: 4887\n",
      "Model: [2389.2614933], Actual: 1963\n",
      "Model: [358.9280953], Actual: 552\n",
      "Model: [427.11756355], Actual: 649\n",
      "Model: [1548.69170943], Actual: 1569\n",
      "Model: [7500.0498095], Actual: 11830\n",
      "Model: [3981.05076344], Actual: 4089\n",
      "Model: [3600.13565662], Actual: 3618\n",
      "Model: [5650.07864398], Actual: 5458\n",
      "Model: [2660.2447161], Actual: 2352\n",
      "Model: [819.75135082], Actual: 936\n",
      "Model: [9567.7335413], Actual: 9901\n",
      "Model: [619.92289606], Actual: 929\n"
     ]
    }
   ],
   "source": [
    "for X,y in zip(X_test, y_test):\n",
    "    print(f\"Model: {clf.predict([X])}, Actual: {y}\")\n",
    "    "
   ]
  },
  {
   "cell_type": "markdown",
   "id": "2768cf3d-02ff-4699-b0f7-40d864ae9461",
   "metadata": {},
   "source": [
    "Testiamo un altro modello!"
   ]
  },
  {
   "cell_type": "code",
   "execution_count": 23,
   "id": "9a76f331-5367-4132-9a8a-e15598a6c9b9",
   "metadata": {},
   "outputs": [
    {
     "data": {
      "text/plain": [
       "SVR()"
      ]
     },
     "execution_count": 23,
     "metadata": {},
     "output_type": "execute_result"
    }
   ],
   "source": [
    "clf = svm.SVR(kernel=\"rbf\")\n",
    "clf.fit(X_train, y_train)"
   ]
  },
  {
   "cell_type": "code",
   "execution_count": 24,
   "id": "834b9124-9473-4791-af0b-0db6a7443769",
   "metadata": {},
   "outputs": [
    {
     "data": {
      "text/plain": [
       "0.6250887260458173"
      ]
     },
     "execution_count": 24,
     "metadata": {},
     "output_type": "execute_result"
    }
   ],
   "source": [
    "clf.score(X_test, y_test)"
   ]
  },
  {
   "cell_type": "code",
   "execution_count": 25,
   "id": "fa592503-de90-4003-a229-6818b6e2719b",
   "metadata": {},
   "outputs": [
    {
     "name": "stdout",
     "output_type": "stream",
     "text": [
      "Model: [3309.28030506], Actual: 2301\n",
      "Model: [833.2631206], Actual: 502\n",
      "Model: [1384.52801449], Actual: 1000\n",
      "Model: [1995.82907062], Actual: 1928\n",
      "Model: [468.36576844], Actual: 605\n",
      "Model: [2953.58804944], Actual: 2681\n",
      "Model: [5778.00215426], Actual: 9557\n",
      "Model: [2541.0010444], Actual: 2057\n",
      "Model: [4419.6195572], Actual: 4360\n",
      "Model: [3230.41498623], Actual: 2763\n",
      "Model: [1176.39301644], Actual: 974\n",
      "Model: [1022.73555572], Actual: 752\n",
      "Model: [1485.0797959], Actual: 844\n",
      "Model: [1521.27167801], Actual: 748\n",
      "Model: [5969.38011599], Actual: 6552\n",
      "Model: [1364.71210087], Actual: 1356\n",
      "Model: [5935.85669044], Actual: 4278\n",
      "Model: [6209.74015744], Actual: 11737\n",
      "Model: [4054.02797279], Actual: 5706\n",
      "Model: [670.48833993], Actual: 776\n",
      "Model: [731.54192132], Actual: 550\n",
      "Model: [4033.81008915], Actual: 4381\n",
      "Model: [3607.4432458], Actual: 3551\n",
      "Model: [4814.81467324], Actual: 6830\n",
      "Model: [5547.83819048], Actual: 5008\n",
      "Model: [1235.8256547], Actual: 590\n",
      "Model: [268.69025255], Actual: 561\n",
      "Model: [647.5085336], Actual: 462\n",
      "Model: [1239.00818628], Actual: 1133\n",
      "Model: [5286.30695017], Actual: 5674\n",
      "Model: [5717.57928883], Actual: 6955\n",
      "Model: [4281.85212255], Actual: 3951\n",
      "Model: [3522.24532736], Actual: 4458\n",
      "Model: [1850.98166858], Actual: 1250\n",
      "Model: [930.07512763], Actual: 826\n",
      "Model: [2986.89087506], Actual: 3085\n",
      "Model: [1212.94101086], Actual: 506\n",
      "Model: [870.68512093], Actual: 1080\n",
      "Model: [5469.25924687], Actual: 18706\n",
      "Model: [688.77581376], Actual: 603\n",
      "Model: [6337.64986328], Actual: 9774\n",
      "Model: [3887.34479244], Actual: 4202\n",
      "Model: [1181.28876695], Actual: 625\n",
      "Model: [4793.58972976], Actual: 5124\n",
      "Model: [3983.76338478], Actual: 4011\n",
      "Model: [886.20745693], Actual: 949\n",
      "Model: [4466.92678384], Actual: 4698\n",
      "Model: [6925.58526243], Actual: 18153\n",
      "Model: [6518.56239527], Actual: 7270\n",
      "Model: [3953.61620815], Actual: 3461\n",
      "Model: [1568.35558279], Actual: 1389\n",
      "Model: [4053.80510614], Actual: 4476\n",
      "Model: [1852.00383519], Actual: 1754\n",
      "Model: [4525.93569808], Actual: 4398\n",
      "Model: [4047.63264579], Actual: 5747\n",
      "Model: [1464.1213871], Actual: 1588\n",
      "Model: [1348.52171232], Actual: 1287\n",
      "Model: [731.70300415], Actual: 957\n",
      "Model: [3484.40596332], Actual: 2959\n",
      "Model: [529.76919307], Actual: 645\n",
      "Model: [1340.38171383], Actual: 956\n",
      "Model: [6962.09636291], Actual: 10055\n",
      "Model: [7106.24271817], Actual: 8858\n",
      "Model: [4533.48969424], Actual: 4543\n",
      "Model: [1061.61937536], Actual: 863\n",
      "Model: [743.02366389], Actual: 544\n",
      "Model: [1814.81706229], Actual: 1707\n",
      "Model: [838.90513776], Actual: 636\n",
      "Model: [4725.8796609], Actual: 3686\n",
      "Model: [4776.4741321], Actual: 6713\n",
      "Model: [6775.7495417], Actual: 18487\n",
      "Model: [4607.31357196], Actual: 4052\n",
      "Model: [3226.406188], Actual: 2940\n",
      "Model: [1206.65584941], Actual: 485\n",
      "Model: [2595.31960744], Actual: 3004\n",
      "Model: [1004.28955414], Actual: 844\n",
      "Model: [3473.06926948], Actual: 5027\n",
      "Model: [1874.59803139], Actual: 1948\n",
      "Model: [6059.68930607], Actual: 8061\n",
      "Model: [6110.87045121], Actual: 14704\n",
      "Model: [1060.15387779], Actual: 638\n",
      "Model: [2057.59928021], Actual: 1880\n",
      "Model: [4982.62224715], Actual: 7597\n",
      "Model: [602.57126874], Actual: 666\n",
      "Model: [5361.38672654], Actual: 7311\n",
      "Model: [1585.73066668], Actual: 1384\n",
      "Model: [7039.64693274], Actual: 13250\n",
      "Model: [7414.71989178], Actual: 11104\n",
      "Model: [5030.57352168], Actual: 5306\n",
      "Model: [2792.24748817], Actual: 2792\n",
      "Model: [3093.38133708], Actual: 2717\n",
      "Model: [1363.57947778], Actual: 507\n",
      "Model: [4788.06223767], Actual: 5616\n",
      "Model: [1344.73379837], Actual: 783\n",
      "Model: [512.67429118], Actual: 675\n",
      "Model: [7056.57580257], Actual: 7559\n",
      "Model: [1986.27998765], Actual: 1766\n",
      "Model: [383.45446993], Actual: 743\n",
      "Model: [7138.13317813], Actual: 7714\n",
      "Model: [1842.29535619], Actual: 1622\n",
      "Model: [1212.49826662], Actual: 867\n",
      "Model: [931.65717718], Actual: 1053\n",
      "Model: [6892.24882096], Actual: 10575\n",
      "Model: [1498.64175952], Actual: 1656\n",
      "Model: [1213.37267145], Actual: 863\n",
      "Model: [6592.0982323], Actual: 14773\n",
      "Model: [609.46764975], Actual: 516\n",
      "Model: [1875.34919868], Actual: 1936\n",
      "Model: [3087.03971851], Actual: 2604\n",
      "Model: [944.42386988], Actual: 810\n",
      "Model: [1626.71681149], Actual: 1265\n",
      "Model: [1924.06117463], Actual: 2001\n",
      "Model: [6475.35774294], Actual: 7113\n",
      "Model: [1123.97297615], Actual: 956\n",
      "Model: [3393.74791321], Actual: 2396\n",
      "Model: [5146.09077038], Actual: 6271\n",
      "Model: [5178.89111481], Actual: 5824\n",
      "Model: [4062.8793265], Actual: 6512\n",
      "Model: [4896.25835553], Actual: 5183\n",
      "Model: [7197.58428965], Actual: 11180\n",
      "Model: [1267.85968614], Actual: 795\n",
      "Model: [620.17005834], Actual: 706\n",
      "Model: [1415.20373765], Actual: 1578\n",
      "Model: [4957.88327676], Actual: 4362\n",
      "Model: [3462.76904326], Actual: 3150\n",
      "Model: [5983.23702206], Actual: 8564\n",
      "Model: [431.19822676], Actual: 605\n",
      "Model: [5330.62114114], Actual: 17953\n",
      "Model: [5393.77030603], Actual: 6271\n",
      "Model: [4081.40740538], Actual: 3950\n",
      "Model: [1148.17318755], Actual: 1024\n",
      "Model: [5401.48637028], Actual: 5458\n",
      "Model: [1194.90081763], Actual: 956\n",
      "Model: [1430.02536251], Actual: 710\n",
      "Model: [1094.5822776], Actual: 1115\n",
      "Model: [1028.46425675], Actual: 756\n",
      "Model: [1267.43757305], Actual: 739\n",
      "Model: [967.43708568], Actual: 734\n",
      "Model: [1347.52089211], Actual: 1301\n",
      "Model: [1145.90514521], Actual: 1569\n",
      "Model: [3316.44309733], Actual: 2862\n",
      "Model: [656.368793], Actual: 658\n",
      "Model: [6844.78453589], Actual: 9756\n",
      "Model: [918.20049075], Actual: 540\n",
      "Model: [1634.78142013], Actual: 1367\n",
      "Model: [2591.68398362], Actual: 2543\n",
      "Model: [1689.25041578], Actual: 1554\n",
      "Model: [6586.45784576], Actual: 10833\n",
      "Model: [711.69963983], Actual: 844\n",
      "Model: [660.19580581], Actual: 737\n",
      "Model: [783.59485608], Actual: 597\n",
      "Model: [5485.91010486], Actual: 6126\n",
      "Model: [3571.47854898], Actual: 3387\n",
      "Model: [712.40419122], Actual: 911\n",
      "Model: [1790.25406376], Actual: 1960\n",
      "Model: [2405.38248315], Actual: 2316\n",
      "Model: [4282.30018014], Actual: 5000\n",
      "Model: [2760.35371955], Actual: 2683\n",
      "Model: [691.10995859], Actual: 558\n",
      "Model: [4472.43270915], Actual: 4759\n",
      "Model: [3586.74092537], Actual: 3590\n",
      "Model: [6545.79625336], Actual: 11040\n",
      "Model: [572.63327871], Actual: 719\n",
      "Model: [3511.7027525], Actual: 4258\n",
      "Model: [453.95139455], Actual: 675\n",
      "Model: [3559.61961793], Actual: 3442\n",
      "Model: [5592.77816662], Actual: 6652\n",
      "Model: [3574.55754766], Actual: 4273\n",
      "Model: [3336.50706063], Actual: 2732\n",
      "Model: [1210.41040754], Actual: 882\n",
      "Model: [1635.51408049], Actual: 1445\n",
      "Model: [1891.58279881], Actual: 1292\n",
      "Model: [1331.93861184], Actual: 1654\n",
      "Model: [6000.28432924], Actual: 9251\n",
      "Model: [7976.81351539], Actual: 12068\n",
      "Model: [7422.12473363], Actual: 13110\n",
      "Model: [3203.88175943], Actual: 2873\n",
      "Model: [6654.28159814], Actual: 10122\n",
      "Model: [1560.67154656], Actual: 1689\n",
      "Model: [5649.52227208], Actual: 6190\n",
      "Model: [2804.19548579], Actual: 1828\n",
      "Model: [922.13659483], Actual: 935\n",
      "Model: [4305.18298911], Actual: 4488\n",
      "Model: [1949.64584638], Actual: 2066\n",
      "Model: [3156.63965983], Actual: 2724\n",
      "Model: [2451.4989202], Actual: 2063\n",
      "Model: [4046.63681277], Actual: 3802\n",
      "Model: [4089.31868568], Actual: 4887\n",
      "Model: [2103.64655985], Actual: 1963\n",
      "Model: [1359.12188554], Actual: 552\n",
      "Model: [638.80717358], Actual: 649\n",
      "Model: [1496.008134], Actual: 1569\n",
      "Model: [6595.06547343], Actual: 11830\n",
      "Model: [3788.94868097], Actual: 4089\n",
      "Model: [3139.10062438], Actual: 3618\n",
      "Model: [4263.73826265], Actual: 5458\n",
      "Model: [2484.75098901], Actual: 2352\n",
      "Model: [1020.07269982], Actual: 936\n",
      "Model: [6695.93027173], Actual: 9901\n",
      "Model: [1311.38042605], Actual: 929\n"
     ]
    }
   ],
   "source": [
    "for X,y in zip(X_test, y_test):\n",
    "    print(f\"Model: {clf.predict([X])}, Actual: {y}\")"
   ]
  },
  {
   "cell_type": "markdown",
   "id": "223b5842-9dfb-48ae-80b7-0f5518727d59",
   "metadata": {},
   "source": [
    "**BONUS:** Si potrebbero usare più classifier e alla fine fare una media delle prestazioni!"
   ]
  }
 ],
 "metadata": {
  "kernelspec": {
   "display_name": "Python 3 (ipykernel)",
   "language": "python",
   "name": "python3"
  },
  "language_info": {
   "codemirror_mode": {
    "name": "ipython",
    "version": 3
   },
   "file_extension": ".py",
   "mimetype": "text/x-python",
   "name": "python",
   "nbconvert_exporter": "python",
   "pygments_lexer": "ipython3",
   "version": "3.9.9"
  }
 },
 "nbformat": 4,
 "nbformat_minor": 5
}
