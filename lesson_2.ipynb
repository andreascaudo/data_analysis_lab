{
 "cells": [
  {
   "cell_type": "markdown",
   "id": "54bf7e03-a92b-487b-86dd-2623c06d37f2",
   "metadata": {},
   "source": [
    "# Parte 2 - Alterazione e unione di datasets"
   ]
  },
  {
   "cell_type": "markdown",
   "id": "878d9605-0210-4399-b499-0ae227695970",
   "metadata": {},
   "source": [
    "### Alterazione"
   ]
  },
  {
   "cell_type": "markdown",
   "id": "dabb925e-c7ab-48db-9ce4-d57d18a3318e",
   "metadata": {},
   "source": [
    "## Esercizio 2:\n",
    "- Importare Pandas\n",
    "- Caricare il dataset avocado\n",
    "- Creare un subset del dataset chiamato \"organic_avocado_df\" dove la colonna \"type\" è di tipo \"organic\"\n",
    "- Ordinare il dataset in base alla data [Suggerimento: utilizzate il metodo **sort_values(by=\"Nome colonna\", ascending=True)**]"
   ]
  },
  {
   "cell_type": "code",
   "execution_count": null,
   "id": "fec23e74-992e-49bc-903b-bccedd721ea9",
   "metadata": {},
   "outputs": [],
   "source": [
    "#Importare Pandas"
   ]
  },
  {
   "cell_type": "code",
   "execution_count": null,
   "id": "3d32fa28-08cb-4ec4-a16e-50e69e5fb35f",
   "metadata": {},
   "outputs": [],
   "source": [
    "#Caricare Dataset\n",
    "\n",
    "#Creare Subset\n",
    "\n",
    "#Ordinare"
   ]
  },
  {
   "cell_type": "markdown",
   "id": "954db28d-d72b-486a-8bbe-bd71e159b792",
   "metadata": {},
   "source": [
    "Creiamo un nuovo dataframe dove per ogni colonna avremo tutte le \"region\" e ogni riga rappresenterà la media mobile creata precedentemente per un ogni giorno:\n",
    "\n",
    "es:\n",
    "\n",
    "    California | Florida | New York\n",
    "2015&emsp;&emsp;&emsp;1.4&emsp;&emsp;&emsp;&emsp;1.8&emsp;&emsp;&emsp;&emsp;2 <br>\n",
    "2016&emsp;&emsp;&emsp;1.3&emsp;&emsp;&emsp;&emsp;1.7&emsp;&emsp;&emsp;&emsp;2 <br>"
   ]
  },
  {
   "cell_type": "code",
   "execution_count": null,
   "id": "b8b339f1-c7b4-4403-b458-f002ca26146b",
   "metadata": {},
   "outputs": [],
   "source": [
    "media_mobile_df = \n",
    "\n",
    "for region in organic_avocado_df[\"region\"].unique():\n",
    "    region_df = #Estraggo una region\n",
    "    region_df.set_index() #Imposto indice\n",
    "    region_df.sort_index(inplace=True) #Ordino\n",
    "    region_df[region] = #Inserisco contenuto della colonna\n",
    "        \n",
    "    if media_mobile_df.empty:\n",
    "        media_mobile_df = region_df[[region]]\n",
    "    else:\n",
    "        media_mobile_df = .join()"
   ]
  },
  {
   "cell_type": "code",
   "execution_count": null,
   "id": "d9744027-e8c0-4dd1-9e9b-6616a7bab1bc",
   "metadata": {},
   "outputs": [],
   "source": []
  },
  {
   "cell_type": "code",
   "execution_count": null,
   "id": "a28ed29d-bbbb-4bb2-b662-ff3b0aca2e36",
   "metadata": {},
   "outputs": [],
   "source": []
  },
  {
   "cell_type": "markdown",
   "id": "24fe424b-1ee6-4921-9b3d-6296bf002d73",
   "metadata": {},
   "source": [
    "## Esercizio 3:\n",
    "- Convertire la colonna \"Date\" da stringa a datetime (Suggerimento: Nel notebook precedente abbiamo convertito l'index e non una colonna)"
   ]
  },
  {
   "cell_type": "code",
   "execution_count": null,
   "id": "65418c2d-e59b-4da9-b745-ddfa48d9e188",
   "metadata": {},
   "outputs": [],
   "source": [
    "organic_avocado_df[] = pd.to_datetime()"
   ]
  },
  {
   "cell_type": "markdown",
   "id": "73cb7760-9a82-4eb6-b653-18b1c589e186",
   "metadata": {},
   "source": [
    "**Problema:** Per l'analisi che andremo a fare ci servirà il dataset contentete come region solo gli stati!"
   ]
  },
  {
   "cell_type": "code",
   "execution_count": null,
   "id": "7436a84e-3d6e-4b84-abe3-ef2445cd1ad2",
   "metadata": {},
   "outputs": [],
   "source": []
  },
  {
   "cell_type": "markdown",
   "id": "2f90da76-a4c9-4fab-ba32-e07d68d97c5e",
   "metadata": {},
   "source": [
    "In alcuni casi abbiamo il nome della città, in altri casi abbiamo lo stato, in altri casi nome + stato, etc.. <br>\n",
    "Non mi basta mantenere solo gli stati, le colonne stato sono troppo poche\n",
    "\n",
    "Passi che andremo a compiere:\n",
    "1) Separare i nomi uniti\n",
    "2) Mappare le città con il proprio stato\n",
    "3) Raggruppare le città nel proprio stato"
   ]
  },
  {
   "cell_type": "markdown",
   "id": "cfdc9803-a426-463d-8449-e500461dad0b",
   "metadata": {},
   "source": [
    "### Passo 1: \n",
    "#### Separare i nomi"
   ]
  },
  {
   "cell_type": "code",
   "execution_count": null,
   "id": "7c820fd7-6216-4ca8-9c40-b03933a7e674",
   "metadata": {},
   "outputs": [],
   "source": [
    "import re\n",
    "\n",
    "nomi_nuovi = []\n",
    "\n",
    "for row in organic_avocado_df.itertuples():\n",
    "    nomi_nuovi.append(\" \".join(re.findall('[A-Z][^A-Z]*', row[-1])))\n",
    "\n",
    "organic_avocado_df[] = \n",
    "organic_avocado_df.head()"
   ]
  },
  {
   "cell_type": "code",
   "execution_count": null,
   "id": "e615c798-31bb-413e-a288-78a756f389b5",
   "metadata": {},
   "outputs": [],
   "source": []
  },
  {
   "cell_type": "markdown",
   "id": "c46b338c-9673-4377-be91-4024fbe5b4d6",
   "metadata": {},
   "source": [
    "### Passo 2:\n",
    "#### Mappare le città con il proprio stato<br>\n",
    "Colleghiamoci a questo [sito](https://worldpopulationreview.com/us-cities)!"
   ]
  },
  {
   "cell_type": "code",
   "execution_count": null,
   "id": "4d120f4b-f912-4d5d-b3e2-8fd8acc79b9f",
   "metadata": {},
   "outputs": [],
   "source": [
    "= pd.read_html()"
   ]
  },
  {
   "cell_type": "markdown",
   "id": "bb7ad4ee-91dc-418f-a2d2-3e74caefbf21",
   "metadata": {},
   "source": [
    "Quali colonne ci interessano?"
   ]
  },
  {
   "cell_type": "code",
   "execution_count": null,
   "id": "4771ee03-c6e0-4f08-8112-243733e6bdff",
   "metadata": {},
   "outputs": [],
   "source": []
  },
  {
   "cell_type": "code",
   "execution_count": null,
   "id": "4f68fa05-5749-4419-beab-f7551a89a16f",
   "metadata": {},
   "outputs": [],
   "source": []
  },
  {
   "cell_type": "code",
   "execution_count": null,
   "id": "6cbe870e-22d8-4393-9869-02854cb0e9f8",
   "metadata": {},
   "outputs": [],
   "source": []
  },
  {
   "cell_type": "code",
   "execution_count": null,
   "id": "1e2639a9-6f7d-43e8-a295-0df9412a7add",
   "metadata": {},
   "outputs": [],
   "source": []
  },
  {
   "cell_type": "markdown",
   "id": "8d904cc9-b6ea-4718-9ff8-ee9227972ed7",
   "metadata": {},
   "source": [
    "Dobbiamo iterare ogni città nel dataset e ottenere dal dizionario lo stato corrispondente"
   ]
  },
  {
   "cell_type": "code",
   "execution_count": null,
   "id": "05f172ef-a13b-49a6-838e-c81340b40ee9",
   "metadata": {},
   "outputs": [],
   "source": [
    "citta_us_dict = [for in ]\n",
    "citta_us_dict"
   ]
  },
  {
   "cell_type": "markdown",
   "id": "728126aa-1fd4-45df-a19b-38cbad4d799b",
   "metadata": {},
   "source": [
    "**Problema**: <br>\n",
    "'California'\n",
    "'New York'\n",
    "'Midsouth'\n",
    "'West'\n",
    "'Northeast'\n",
    "'Total US'\n",
    "'South Carolina'\n",
    "'SouthCentral'\n",
    "'West Tex New Mexico'\n",
    "'Northern New England'"
   ]
  },
  {
   "cell_type": "code",
   "execution_count": null,
   "id": "65a73c15-5b03-45bd-8b49-ceb33dedecaa",
   "metadata": {},
   "outputs": [],
   "source": [
    "organic_avocado_df = organic_avocado_df.drop(organic_avocado_df[(organic_avocado_df['region'] == \"California\") | \n",
    "                                        (organic_avocado_df['region'] == \"New York\") | \n",
    "                                        (organic_avocado_df['region'] == \"Midsouth\") | \n",
    "                                        (organic_avocado_df['region'] == \"West\") |\n",
    "                                        (organic_avocado_df['region'] == \"Northeast\") |\n",
    "                                        (organic_avocado_df['region'] == \"Southeast\") |\n",
    "                                        (organic_avocado_df['region'] == \"Total U S\") |\n",
    "                                        (organic_avocado_df['region'] == \"South Carolina\") |\n",
    "                                        (organic_avocado_df['region'] == \"South Central\") |\n",
    "                                        (organic_avocado_df['region'] == \"West Tex New Mexico\") |\n",
    "                                        (organic_avocado_df['region'] == \"Great Lakes\") |\n",
    "                                        (organic_avocado_df['region'] == \"Northern New England\")].index)"
   ]
  },
  {
   "cell_type": "code",
   "execution_count": null,
   "id": "cccaf436-de18-45e7-b072-9a948e9ca3c0",
   "metadata": {},
   "outputs": [],
   "source": []
  },
  {
   "cell_type": "markdown",
   "id": "4119ce16-16de-4b42-82a1-c405925ea10a",
   "metadata": {},
   "source": [
    "**Problema**: <br>\n",
    "'Phoenix Tucson'\n",
    "'Buffalo Rochester'\n",
    "'St Louis'\n",
    "'Miami Ft Lauderdale'\n",
    "'Baltimore Washington'\n",
    "'Richmond Norfolk'\n",
    "'Dallas Ft Worth'\n",
    "'Harrisburg Scranton'\n",
    "'Raleigh Greensboro'\n",
    "'Hartford Springfield'\n",
    "'Cincinnati Dayton',\n",
    "'New Orleans Mobile'"
   ]
  },
  {
   "cell_type": "code",
   "execution_count": null,
   "id": "ce24a222-1f81-46ca-a592-11738a348685",
   "metadata": {},
   "outputs": [],
   "source": [
    "organic_avocado_df.loc[organic_avocado_df['region'] == 'Phoenix Tucson', 'region'] = 'Phoenix'\n",
    "organic_avocado_df.loc[organic_avocado_df['region'] == 'Buffalo Rochester', 'region'] = 'Buffalo'\n",
    "organic_avocado_df.loc[organic_avocado_df['region'] == 'St Louis', 'region'] = 'St. Louis'\n",
    "organic_avocado_df.loc[organic_avocado_df['region'] == 'Miami Ft Lauderdale', 'region'] = 'Miami'\n",
    "organic_avocado_df.loc[organic_avocado_df['region'] == 'Baltimore Washington', 'region'] = 'Baltimore'\n",
    "organic_avocado_df.loc[organic_avocado_df['region'] == 'Richmond Norfolk', 'region'] = 'Richmond'\n",
    "organic_avocado_df.loc[organic_avocado_df['region'] == 'Harrisburg Scranton', 'region'] = 'Harrisburg'\n",
    "organic_avocado_df.loc[organic_avocado_df['region'] == 'Raleigh Greensboro', 'region'] = 'Raleigh'\n",
    "organic_avocado_df.loc[organic_avocado_df['region'] == 'Hartford Springfield', 'region'] = 'Hartford'\n",
    "organic_avocado_df.loc[organic_avocado_df['region'] == 'Cincinnati Dayton', 'region'] = 'Cincinnati'\n",
    "organic_avocado_df.loc[organic_avocado_df['region'] == 'New Orleans Mobile', 'region'] = 'New Orleans'\n",
    "organic_avocado_df.loc[organic_avocado_df['region'] == 'Dallas Ft Worth', 'region'] = 'Dallas'\n",
    "\n",
    "citta_us_dict[\"Syracuse\"] = \"New York\"\n",
    "citta_us_dict[\"Roanoke\"] = \"North Carolina\"\n",
    "citta_us_dict[\"Plains\"] = \"Georgia\"\n",
    "citta_us_dict[\"Albany\"] = \"New York\"\n",
    "citta_us_dict[\"Harrisburg\"] = \"Pennsylvania\"\n",
    "citta_us_dict[\"Hartford\"] = \"Connecticut\""
   ]
  },
  {
   "cell_type": "code",
   "execution_count": null,
   "id": "58ebb91c-17f8-4824-82ed-01f35dc70b56",
   "metadata": {},
   "outputs": [],
   "source": [
    "citta_us_dict = [ for in ]"
   ]
  },
  {
   "cell_type": "markdown",
   "id": "43d1b79c-6033-4bf9-a7c9-14e640ed509d",
   "metadata": {},
   "source": [
    "## Esercizio 4:\n",
    "- Creare nel dataframe \"organic_avocado_df\" la colonna \"state\" e assegnarli la lista appena creata"
   ]
  },
  {
   "cell_type": "code",
   "execution_count": null,
   "id": "006dc8c1-d0b8-4920-a9ca-49e0148c3fbf",
   "metadata": {},
   "outputs": [],
   "source": []
  },
  {
   "cell_type": "code",
   "execution_count": null,
   "id": "437a6730-5620-4816-b086-3bccc39b3743",
   "metadata": {},
   "outputs": [],
   "source": []
  },
  {
   "cell_type": "markdown",
   "id": "af31aad4-eb59-405f-9062-ea372a97ee73",
   "metadata": {},
   "source": [
    "Vogliamo raggruppare gli stati tutti assieme:"
   ]
  },
  {
   "cell_type": "code",
   "execution_count": null,
   "id": "6b37b5f7-7e1b-4803-b8a6-7bb43332aa13",
   "metadata": {},
   "outputs": [],
   "source": [
    "organic_avocado_df = organic_avocado_df.groupby(['Date','state']).mean()\n",
    "organic_avocado_df.tail(25)"
   ]
  },
  {
   "cell_type": "markdown",
   "id": "9f0f1576-0039-4561-9469-7f62338e1fc5",
   "metadata": {},
   "source": [
    "## Esercizio 5:\n",
    "- Ricreare un dataframe chiamato **_media_mobile_df_** dove per ogni colonna avremo tutti gli \"state\" e per ogni riga la media mobile:\n",
    "\n"
   ]
  },
  {
   "cell_type": "code",
   "execution_count": null,
   "id": "3d2c1fc0-71d8-4157-899c-4661ca58b60d",
   "metadata": {
    "tags": []
   },
   "outputs": [],
   "source": [
    "______ = pd.DataFrame()\n",
    "\n",
    "for state, group in organic_avocado_df.groupby(\"state\"):\n",
    "    group = group.reset_index()\n",
    "    group[state] = group[\"AveragePrice\"].rolling(25).mean()\n",
    "    \n",
    "    if __________.empty:\n",
    "        _______ = group.set_index(\"Date\")[[state]]\n",
    "    else:\n",
    "        _______ = ________.join(group.set_index(\"Date\")[[state]])\n",
    "        \n",
    "__________.tail(20)"
   ]
  },
  {
   "cell_type": "code",
   "execution_count": null,
   "id": "3f63ac82-f971-43cf-a12f-94bcf82bb6b2",
   "metadata": {},
   "outputs": [],
   "source": []
  },
  {
   "cell_type": "code",
   "execution_count": null,
   "id": "d86ee47d-b71f-4f4b-8acc-806483932517",
   "metadata": {},
   "outputs": [],
   "source": []
  },
  {
   "cell_type": "markdown",
   "id": "a258a552-c852-44f8-b043-d0ea42b0a2b4",
   "metadata": {},
   "source": [
    "Osserviamo i risultati:"
   ]
  },
  {
   "cell_type": "code",
   "execution_count": null,
   "id": "68f0a3d3-519b-46b1-aa5e-b389b62d5269",
   "metadata": {},
   "outputs": [],
   "source": []
  },
  {
   "cell_type": "markdown",
   "id": "86514e11-1625-420e-86ec-199062f397cd",
   "metadata": {},
   "source": [
    "Meglio togliere la legenda"
   ]
  },
  {
   "cell_type": "code",
   "execution_count": null,
   "id": "978c5795-2381-404c-8c8f-3886febe36cd",
   "metadata": {},
   "outputs": [],
   "source": []
  },
  {
   "cell_type": "code",
   "execution_count": null,
   "id": "e5e90514-3d71-41e8-9b79-5e190bce4f20",
   "metadata": {},
   "outputs": [],
   "source": []
  },
  {
   "cell_type": "markdown",
   "id": "7a9c737e-0698-453b-950c-566bb29ca014",
   "metadata": {},
   "source": [
    "Stampiamo la matrice di correlazione e dopodiché salviamola in una variabile!\n",
    "\n",
    "La correlazione è una misura statistica che descrive come due variabili sono correlate e indica quando una variabile cambia di valore, l'altra variabile tende a cambiare in una direzione specifica.\n",
    "\n",
    "- **Correlazione positiva**: le due variabili si muovono nella stessa direzione (cioè, una variabile aumenta quando l'altra aumenta. Oppure, una diminuisce mentre l'altra diminuisce).\n",
    "- **Correlazione negativa**: le due variabili si muovono in direzioni opposte (cioè, una variabile aumenta mentre l'altra diminuisce, e viceversa)\n",
    "- **Correlazione neutra**: le due variabili non mostrano alcuna relazione tra loro."
   ]
  },
  {
   "cell_type": "code",
   "execution_count": null,
   "id": "74fca965-9eec-403c-ad6c-5347c526ead4",
   "metadata": {},
   "outputs": [],
   "source": []
  },
  {
   "cell_type": "code",
   "execution_count": null,
   "id": "3784dc74-3396-4d8b-929f-04920d56e2fc",
   "metadata": {},
   "outputs": [],
   "source": []
  },
  {
   "cell_type": "markdown",
   "id": "ae781316-f201-4d3c-b95c-75c064b6de06",
   "metadata": {},
   "source": [
    "**Importiamo due nuove librerie che ci aiuteranno a visualizzare la matrice di correlazione**"
   ]
  },
  {
   "cell_type": "code",
   "execution_count": null,
   "id": "06d254ed-dc9d-4d6d-b136-d5dcbb1e9c7e",
   "metadata": {},
   "outputs": [],
   "source": [
    "import matplotlib.pyplot as plt\n",
    "import numpy as np\n",
    "\n",
    "plt.matshow(media_mobile_corr)"
   ]
  },
  {
   "cell_type": "markdown",
   "id": "e6f3cb96-f27b-4d3f-aa13-e87482059173",
   "metadata": {},
   "source": [
    "**Abbiamo due problemi da dover risolvere per ottenere un plot più leggibile**"
   ]
  },
  {
   "cell_type": "markdown",
   "id": "310e99a3-ff05-4b7d-8779-1e39db0e320a",
   "metadata": {},
   "source": [
    "**Problema 1:**"
   ]
  },
  {
   "cell_type": "code",
   "execution_count": null,
   "id": "8f5ca926-ec39-43ed-9677-9768f1b5f3dc",
   "metadata": {},
   "outputs": [],
   "source": [
    "fig = plt.figure(__________)\n",
    "ax = fig.add_subplot(111) # 1 by 1 Grind -> Number 1\n",
    "ax.matshow(_________, cmap=plt.cm.RdYlGn)\n",
    "plt.show()"
   ]
  },
  {
   "cell_type": "code",
   "execution_count": null,
   "id": "9c6f0645-501a-4274-8f6c-a445b344ea1e",
   "metadata": {},
   "outputs": [],
   "source": [
    "labels = [ for  in ]\n",
    "\n",
    "fig = plt.figure(________)\n",
    "ax = fig.add_subplot(111) # 1 by 1 Grind -> Number 1\n",
    "ax.matshow(___________, cmap=plt.cm.RdYlGn)\n",
    "ax.set_yticklabels(_______)\n",
    "ax.set_xticklabels(_______)\n",
    "plt.show()"
   ]
  },
  {
   "cell_type": "code",
   "execution_count": null,
   "id": "7dd5c4fa-c427-4c9d-b773-5491c5fd4a45",
   "metadata": {},
   "outputs": [],
   "source": [
    "fig = plt.figure(_________)\n",
    "ax = fig.add_subplot(111) # 1 by 1 Grind -> Number 1\n",
    "ax.matshow(___________, cmap=plt.cm.RdYlGn)\n",
    "\n",
    "ax.set_yticks(________________)\n",
    "ax.set_xticks(________________)\n",
    "\n",
    "ax.set_yticklabels(__________)\n",
    "ax.set_xticklabels(__________)\n",
    "plt.show()"
   ]
  },
  {
   "cell_type": "markdown",
   "id": "2d49aab2-cc3e-40b7-8ec1-fddd375928a3",
   "metadata": {},
   "source": [
    "**Ultimo problema**"
   ]
  },
  {
   "cell_type": "markdown",
   "id": "03d2a444-0734-4073-925f-658f6905589e",
   "metadata": {},
   "source": [
    "Bisogna trovare un modo per mappare ogni stato con l'abbreviativo ufficiale<br>\n",
    "\n",
    "Colleghiamoci al sito [infoplease](https://www.infoplease.com/us/postal-information/state-abbreviations-and-state-postal-codes)"
   ]
  },
  {
   "cell_type": "markdown",
   "id": "888c3dbd-a6ab-4962-8b83-f2a50e0c03da",
   "metadata": {},
   "source": [
    "## Esercizio 6:\n",
    "- Caricare la pagine infoplease all'interno della variabile states_postalcode (Suggerimento: abbiamo già utilizzato la funzione pd.read_html() )"
   ]
  },
  {
   "cell_type": "code",
   "execution_count": null,
   "id": "8d1423b1-3e15-406f-84ba-be280e6717b7",
   "metadata": {},
   "outputs": [],
   "source": []
  },
  {
   "cell_type": "code",
   "execution_count": null,
   "id": "8b4862ea-2c0c-4a9b-84fd-45f2125f8048",
   "metadata": {},
   "outputs": [],
   "source": []
  },
  {
   "cell_type": "markdown",
   "id": "d7c5bb94-3414-4b81-aea5-bd001d18dfa0",
   "metadata": {},
   "source": [
    "**Ci serve solo la prima parte del dataframe**"
   ]
  },
  {
   "cell_type": "code",
   "execution_count": null,
   "id": "40096311-c523-4ecd-a0c1-20e4b0671ccb",
   "metadata": {},
   "outputs": [],
   "source": []
  },
  {
   "cell_type": "code",
   "execution_count": null,
   "id": "f5eb471d-7476-4e95-88df-ca5c7ba17539",
   "metadata": {},
   "outputs": [],
   "source": []
  },
  {
   "cell_type": "markdown",
   "id": "9d857d9b-b50a-458b-8e31-838de2ac494a",
   "metadata": {},
   "source": [
    "**Ora che abbiamo estratto delle informazioni possiamo salvarle in un file .csv <br>\n",
    "In questo modo se in futuro dovremmo averne ancora bisogno abbiamo già il file pronto!**"
   ]
  },
  {
   "cell_type": "code",
   "execution_count": null,
   "id": "b45e6298-819a-4742-9318-c152c4e542ab",
   "metadata": {},
   "outputs": [],
   "source": []
  },
  {
   "cell_type": "code",
   "execution_count": null,
   "id": "adcd88bd-f57b-4d4d-a52d-6d6d90a8bf1e",
   "metadata": {},
   "outputs": [],
   "source": []
  },
  {
   "cell_type": "markdown",
   "id": "fa438508-6200-48ed-b366-f03facb04279",
   "metadata": {},
   "source": [
    "**Possiamo anche caricare il dataset già con un index**"
   ]
  },
  {
   "cell_type": "code",
   "execution_count": null,
   "id": "6e53fe11-9db0-4b2a-8ddb-16d932bbab6e",
   "metadata": {},
   "outputs": [],
   "source": []
  },
  {
   "cell_type": "markdown",
   "id": "6fe2fd6a-9ecf-4e60-96e3-e04dc08d5fc5",
   "metadata": {},
   "source": [
    "**E convertitlo in un dizionario, in questo modo sarà più semplice riutilizzarlo**\n",
    "\n",
    "## Esercizio 7:\n",
    "- salvare nella variabile \"states_postalcode_dict\" il dizionario con l'index stato e valore \"Postal Code\""
   ]
  },
  {
   "cell_type": "code",
   "execution_count": null,
   "id": "c32b2be0-188a-4f20-a748-82ac8db01f58",
   "metadata": {},
   "outputs": [],
   "source": [
    "_______ = ________[[\"________\"]].to_dict()"
   ]
  },
  {
   "cell_type": "code",
   "execution_count": null,
   "id": "6cfdea91-0a10-4122-8016-6946e62ba52b",
   "metadata": {},
   "outputs": [],
   "source": []
  },
  {
   "cell_type": "markdown",
   "id": "22e48b10-0dcc-4ca0-8a8f-8e5ca17e76eb",
   "metadata": {},
   "source": [
    "## Esercizio 8:\n",
    "- Per ogni colonna di media_mobile_corr estrai da states_postalcode_dict il Postal Code corrispondente e salvalo nella variabile \"labels\""
   ]
  },
  {
   "cell_type": "code",
   "execution_count": null,
   "id": "f1b1388f-4683-413a-8197-7aba8d5514be",
   "metadata": {},
   "outputs": [],
   "source": [
    "labels = [_________[c] for c in ___________.columns]"
   ]
  },
  {
   "cell_type": "code",
   "execution_count": null,
   "id": "93a1ddfb-c979-483b-b993-d92f8887ee32",
   "metadata": {},
   "outputs": [],
   "source": [
    "fig = plt.figure(_________)  \n",
    "\n",
    "ax = fig.add_subplot(111) \n",
    "ax.matshow(______________, cmap=plt.cm.RdYlGn)  \n",
    "\n",
    "ax.set_xticks(np.arange(len(______)))  \n",
    "ax.set_yticks(np.arange(len(______)))  \n",
    "ax.set_xticklabels(______)  \n",
    "ax.set_yticklabels(______)  \n",
    "\n",
    "plt.show()"
   ]
  },
  {
   "cell_type": "markdown",
   "id": "9064443e-4d05-42e6-97ec-f46661dda435",
   "metadata": {},
   "source": [
    "### Unione:"
   ]
  },
  {
   "cell_type": "markdown",
   "id": "78d437bd-e661-4354-bb97-fd0a5b883a8c",
   "metadata": {},
   "source": [
    "**Combining Dataset**\n",
    "\n",
    "**Obbiettivo:** Trovare una correlazione tra il prezzo degli avocado, il salario minimo e il tasso di disoccupazione per un determinato stato.\n",
    "\n",
    "**Disclaimer**: NON è detto che debba esistere una causa nonostante la correlazione, è difficile giustificare i risultati o anche solo trarre qualsiasi conclusione tramite un analisi così semplice, tutto ciò è esclusivamente stato fatto per mostrare le funzionalità di pandas\n",
    "\n",
    "**CARICHIAMO IL DATASET: [US_unemployment](https://www.kaggle.com/jayrav13/unemployment-by-county-us)**"
   ]
  },
  {
   "cell_type": "code",
   "execution_count": null,
   "id": "9d967e85-bb5b-4993-909b-0aa5b0469090",
   "metadata": {},
   "outputs": [],
   "source": []
  },
  {
   "cell_type": "markdown",
   "id": "de2fe87e-1b82-4afb-9c17-a0906a37aa58",
   "metadata": {},
   "source": [
    "**Controlliamo che il nostro dataset sulla media mobile non presenti valori nulli**"
   ]
  },
  {
   "cell_type": "code",
   "execution_count": null,
   "id": "e160d2c6-9ce3-4ba1-bcda-04a33e7902e6",
   "metadata": {},
   "outputs": [],
   "source": [
    "media_mobile_df.head()"
   ]
  },
  {
   "cell_type": "markdown",
   "id": "c6f8c954-7e87-41f3-bbf0-dffa84e747ee",
   "metadata": {},
   "source": [
    "## Esercizio 9:\n",
    "- Eliminare tutte le righe che presentano valori uguali a NaN -> Utilizzare funzione di [pandas](https://pandas.pydata.org/docs/user_guide/missing_data.html#dropping-axis-labels-with-missing-data-dropna)"
   ]
  },
  {
   "cell_type": "code",
   "execution_count": null,
   "id": "e093fec5-efb8-4855-9d38-cede79a3220c",
   "metadata": {},
   "outputs": [],
   "source": [
    "#Delate NaN"
   ]
  },
  {
   "cell_type": "markdown",
   "id": "1d5039d8-fb05-4235-ab8a-ebc99e62f16e",
   "metadata": {},
   "source": [
    "**I nostri dati sul tasso di disoccupazione sono forniti annualmente, mentre il prezzo degli avocado viene fornito con una maggiore frequenza**"
   ]
  },
  {
   "cell_type": "code",
   "execution_count": null,
   "id": "1211b81a-f7b5-460b-82e2-a845d6644ba7",
   "metadata": {},
   "outputs": [],
   "source": [
    "#GROUP BY DATE"
   ]
  },
  {
   "cell_type": "markdown",
   "id": "cf74bd81-122e-414b-9519-7b43e2fbdc60",
   "metadata": {},
   "source": [
    "**Carichiamo adesso il dataset sul salario minimo: [Minimum Wage Data](https://www.kaggle.com/lislejoem/us-minimum-wage-by-state-from-1968-to-2017)**"
   ]
  },
  {
   "cell_type": "code",
   "execution_count": null,
   "id": "4fe9e61f-15c9-432e-b4d3-6caf730f4100",
   "metadata": {},
   "outputs": [],
   "source": [
    "#Minimum Wave"
   ]
  },
  {
   "cell_type": "markdown",
   "id": "2970a955-0a01-4f3f-a701-eeda4b4b4c4a",
   "metadata": {},
   "source": [
    "**Bisogna trasformarlo nello stesso formato del dataset _media_mobile_sd_, ovvero uno stato per ogni colonna e come riga il salario minimo per quel determinato anno**"
   ]
  },
  {
   "cell_type": "code",
   "execution_count": null,
   "id": "a436b8b9-8b20-4046-9793-7685524fc663",
   "metadata": {},
   "outputs": [],
   "source": [
    "salario_min_us_df = pd.DataFrame()\n",
    "\n",
    "for name, group in __________.groupby(\"State\"):\n",
    "    if _________.empty:\n",
    "        ________ = group.set_index(\"Year\")[[\"Effective.Minimum.Wage.2020.Dollars\"]].rename(columns={\"Effective.Minimum.Wage.2020.Dollars\":name})\n",
    "    else:\n",
    "        ________ = _________.join(group.set_index(\"Year\")[[\"Effective.Minimum.Wage.2020.Dollars\"]].rename(columns={\"Effective.Minimum.Wage.2020.Dollars\":name}))\n",
    "\n",
    "____________.head()"
   ]
  },
  {
   "cell_type": "markdown",
   "id": "362d0848-4a04-492e-a501-af1601d5323c",
   "metadata": {},
   "source": [
    "**C'è la possibilità che nel dataset ci siano dei valori uguali a 0, meglio eliminarli** <br>NOTA: Per pandas il valore uguale a 0 non corrisponde ad un valore nullo"
   ]
  },
  {
   "cell_type": "code",
   "execution_count": null,
   "id": "f43298bd-d8e9-448b-b080-2afe8d7ea8da",
   "metadata": {},
   "outputs": [],
   "source": []
  },
  {
   "cell_type": "markdown",
   "id": "5c054039-ab3f-4295-92ad-5e524a373162",
   "metadata": {},
   "source": [
    "**IMPORTANTE**: Dobbiamo creare una funzione che ci restituisca il salario minimo ricevendo in input un anno e un stato "
   ]
  },
  {
   "cell_type": "code",
   "execution_count": null,
   "id": "0961db7c-e77e-4da8-831b-0b0208552d31",
   "metadata": {},
   "outputs": [],
   "source": []
  },
  {
   "cell_type": "markdown",
   "id": "d0cd575c-df25-483c-a810-6291aaee5f89",
   "metadata": {},
   "source": [
    "**TESTIAMO LA FUNZIONE:**"
   ]
  },
  {
   "cell_type": "code",
   "execution_count": null,
   "id": "8ee2b4eb-b5fc-4c5b-9a37-219304bdcc72",
   "metadata": {},
   "outputs": [],
   "source": []
  },
  {
   "cell_type": "markdown",
   "id": "a27f5f5f-e92b-4a96-b6c7-46c7453ad034",
   "metadata": {},
   "source": [
    "**Ora possiamo unire il dataset _disocc_us_df_ con il dataset _salario_min_us_df_ <br>\n",
    "Per fare ciò aggiungeremo una colonna \"min_wage\" al dataset _disocc_us_df_**"
   ]
  },
  {
   "cell_type": "code",
   "execution_count": null,
   "id": "40d48559-0daa-47c4-8980-d531b1d7b79f",
   "metadata": {},
   "outputs": [],
   "source": []
  },
  {
   "cell_type": "markdown",
   "id": "fc86561e-8a43-4536-8e4e-7475fb8e83f9",
   "metadata": {},
   "source": [
    "**Per utilazzere la funzione precedentemente creata dobbiamo utilizzare il metodo map:**"
   ]
  },
  {
   "cell_type": "code",
   "execution_count": null,
   "id": "44a77757-930b-4df9-8acb-b86d7207bd25",
   "metadata": {},
   "outputs": [],
   "source": []
  },
  {
   "cell_type": "markdown",
   "id": "9b8b1f07-bf5d-414b-bd4d-09b024e2e2f5",
   "metadata": {},
   "source": [
    "**Controlliamo il risultato:**"
   ]
  },
  {
   "cell_type": "code",
   "execution_count": null,
   "id": "50cf5ef9-81b2-44e2-ad99-742413bd73cd",
   "metadata": {},
   "outputs": [],
   "source": []
  },
  {
   "cell_type": "markdown",
   "id": "33865553-724d-4889-bcdd-b357184ebe5e",
   "metadata": {},
   "source": [
    "**Verifichiamo se esiste una correlazione tra questi due dati**"
   ]
  },
  {
   "cell_type": "code",
   "execution_count": null,
   "id": "67ebf507-6ce1-4a57-8eab-4fdaa44cc027",
   "metadata": {},
   "outputs": [],
   "source": []
  },
  {
   "cell_type": "markdown",
   "id": "d87cdb5e-a910-4add-b2c0-7039a06da6a5",
   "metadata": {},
   "source": [
    "**Come appena fatto per il salario minimo, dobbiamo aggiungere al dataframe _disocc_us_df_ una colonna che indichi il prezzo degli avocado per un determinato stato e anno**\n",
    "\n",
    "## Esercizio 10:\n",
    "- Creare una funzione chiamata **_get_prezzo_avocado_** che restituisca il prezzo degli avocado dando in input l'anno e lo stato\n",
    "- Testare la funziona con questo esempio: \"Nevada\", 2015"
   ]
  },
  {
   "cell_type": "code",
   "execution_count": null,
   "id": "1c062729-d872-4988-b00c-1bc5b275c002",
   "metadata": {},
   "outputs": [],
   "source": [
    "media_mobile_df.head()"
   ]
  },
  {
   "cell_type": "code",
   "execution_count": null,
   "id": "9cab0ed7-4abd-4590-83b0-709cb7a89fcc",
   "metadata": {},
   "outputs": [],
   "source": [
    "def _______(_____, _____):\n",
    "    try:\n",
    "        \n",
    "    except:\n",
    "        "
   ]
  },
  {
   "cell_type": "code",
   "execution_count": null,
   "id": "e3a22092-2cb8-4f3e-9da3-515d1bec4530",
   "metadata": {},
   "outputs": [],
   "source": []
  },
  {
   "cell_type": "markdown",
   "id": "3bf059e5-d9cb-4c29-ab21-eb4c3f599db9",
   "metadata": {},
   "source": [
    "## Esercizio 11:\n",
    "- Aggiungere al dataframe _disocc_us_df_ la colonna \"avocado_price\" utilizzando la funzione map"
   ]
  },
  {
   "cell_type": "code",
   "execution_count": null,
   "id": "8a3fe3b7-70ab-438c-adcc-d20d7e1b5642",
   "metadata": {},
   "outputs": [],
   "source": [
    "%%time \n",
    "\n",
    "___________[\"_________\"] = list(map(_______, _________, ________))"
   ]
  },
  {
   "cell_type": "code",
   "execution_count": null,
   "id": "e4cbd822-94a6-47de-ab2f-e0be8e003dd2",
   "metadata": {},
   "outputs": [],
   "source": []
  },
  {
   "cell_type": "markdown",
   "id": "2baf6d4e-57d2-441d-a84d-48a81af3b39c",
   "metadata": {},
   "source": [
    "**Non possediamo i dati per ogni stato**"
   ]
  },
  {
   "cell_type": "code",
   "execution_count": null,
   "id": "07c8be6d-e051-4c91-8fb1-ac705b931bd6",
   "metadata": {},
   "outputs": [],
   "source": []
  },
  {
   "cell_type": "code",
   "execution_count": null,
   "id": "2af52816-52a6-463e-b638-639ab1cd128f",
   "metadata": {},
   "outputs": [],
   "source": []
  },
  {
   "cell_type": "code",
   "execution_count": null,
   "id": "c2a0d3f5-6f22-4d51-b2e6-6896b822b89e",
   "metadata": {},
   "outputs": [],
   "source": []
  },
  {
   "cell_type": "markdown",
   "id": "638c6544-417b-4f27-b8af-6fcba5576853",
   "metadata": {},
   "source": [
    "**Correlazione non significa (quasi mai) causalità**, servirebbe un analisi più approfondità!"
   ]
  },
  {
   "cell_type": "markdown",
   "id": "2b7ed210-6922-4dd6-a7cf-cf626506eebb",
   "metadata": {},
   "source": [
    "**Ultima analisi di correlazione:**\n",
    "- C'è una corrlazione tra il salario minimo di uno stato e i risultati delle elezioni presidenziali del 2016?"
   ]
  },
  {
   "cell_type": "markdown",
   "id": "306a35b1-88c5-4c3d-8e8b-6c294ec1bdff",
   "metadata": {},
   "source": [
    "**Importiamo il dataframe delle [elezione del 2016](https://www.kaggle.com/stevepalley/2016uspresidentialvotebycounty)**"
   ]
  },
  {
   "cell_type": "code",
   "execution_count": null,
   "id": "d46411cc-5a98-48a2-a62b-1cb9aff7e609",
   "metadata": {},
   "outputs": [],
   "source": []
  },
  {
   "cell_type": "code",
   "execution_count": null,
   "id": "f254da2e-4e74-4090-97f5-e12b5a967a48",
   "metadata": {},
   "outputs": [],
   "source": []
  },
  {
   "cell_type": "markdown",
   "id": "3b382a4f-e6df-47a0-b885-ea080494a55c",
   "metadata": {},
   "source": [
    "**Confrontiamo i due datasets che dobbiamo unire**"
   ]
  },
  {
   "cell_type": "code",
   "execution_count": null,
   "id": "f8dfb232-8524-44c7-bdeb-883c77d16ccc",
   "metadata": {},
   "outputs": [],
   "source": []
  },
  {
   "cell_type": "markdown",
   "id": "1b1c8db8-b46e-4269-94aa-d88cdcf44905",
   "metadata": {},
   "source": [
    "**Quale porzione del dataset ci interessa?**"
   ]
  },
  {
   "cell_type": "code",
   "execution_count": null,
   "id": "6a7b0031-e8d3-440e-90a3-87f6fc5a855b",
   "metadata": {},
   "outputs": [],
   "source": [
    "______ = ________[(________['_____']==___) & (_______['______']==\"________\")]"
   ]
  },
  {
   "cell_type": "code",
   "execution_count": null,
   "id": "118bd069-d1a3-4256-8b31-45b62bfffd3f",
   "metadata": {},
   "outputs": [],
   "source": []
  },
  {
   "cell_type": "markdown",
   "id": "5ab79ac3-1ca7-4a81-b01a-1a781651f2a0",
   "metadata": {},
   "source": [
    "**Se vogliamo unire i datasets i nomi degli stati devono corrispondere**"
   ]
  },
  {
   "cell_type": "code",
   "execution_count": null,
   "id": "842c9674-3162-453c-900d-e1071e4bfd43",
   "metadata": {},
   "outputs": [],
   "source": []
  },
  {
   "cell_type": "markdown",
   "id": "2d07bae5-8790-4cca-b3c1-c09af81f5615",
   "metadata": {},
   "source": [
    "Dobbiamo convertire gli stati di risultati_elettorali in POSTAL CODE\n",
    "\n",
    "**Possiamo riutilizzare il dizionario che abbiamo creato prima!**"
   ]
  },
  {
   "cell_type": "code",
   "execution_count": null,
   "id": "fbf94ae2-fe1d-4ee1-b40c-e987ae474143",
   "metadata": {},
   "outputs": [],
   "source": []
  },
  {
   "cell_type": "markdown",
   "id": "50cf44d3-b8e1-4a77-be65-219c71aec280",
   "metadata": {},
   "source": [
    "**Ci interessano solo i Postal Code**"
   ]
  },
  {
   "cell_type": "code",
   "execution_count": null,
   "id": "d3898538-9ce6-42d9-b6c5-829b132dd05a",
   "metadata": {},
   "outputs": [],
   "source": []
  },
  {
   "cell_type": "code",
   "execution_count": null,
   "id": "1b5d88ed-3055-4d0b-b3c4-23136bf3f0cf",
   "metadata": {},
   "outputs": [],
   "source": []
  },
  {
   "cell_type": "markdown",
   "id": "2ca65f11-668a-4b46-8c16-ebf974e4d771",
   "metadata": {},
   "source": [
    "Creiamo una nuova colonna del dataframe"
   ]
  },
  {
   "cell_type": "code",
   "execution_count": null,
   "id": "2e5042cf-6d28-4fea-9579-c90ed243278d",
   "metadata": {},
   "outputs": [],
   "source": []
  },
  {
   "cell_type": "code",
   "execution_count": null,
   "id": "458352bc-61d2-4fa5-b2ae-3f4e87a395b6",
   "metadata": {},
   "outputs": [],
   "source": []
  },
  {
   "cell_type": "code",
   "execution_count": null,
   "id": "7a361328-1adc-4bf3-beac-fd99d6562833",
   "metadata": {},
   "outputs": [],
   "source": []
  },
  {
   "cell_type": "markdown",
   "id": "84de5460-f2ed-40ee-871a-1d05e3d28bab",
   "metadata": {},
   "source": [
    "**Ora che i valori sono coerenti controlliamo che i nomi delle colonne corrispondano!**"
   ]
  },
  {
   "cell_type": "code",
   "execution_count": null,
   "id": "1f6098fe-ce8b-4636-8d65-3fe721e41adf",
   "metadata": {},
   "outputs": [],
   "source": []
  },
  {
   "cell_type": "code",
   "execution_count": null,
   "id": "8edff4de-c2e4-4db9-a21b-c642a83561df",
   "metadata": {},
   "outputs": [],
   "source": []
  },
  {
   "cell_type": "markdown",
   "id": "4ae7d6f1-be18-493b-ac2a-1d36857bb840",
   "metadata": {},
   "source": [
    "**PROBLEMA**: Il nome delle colonne County e State non corrispondono"
   ]
  },
  {
   "cell_type": "code",
   "execution_count": null,
   "id": "146ee4a5-dd47-4f7d-8655-7029ad3c4a34",
   "metadata": {},
   "outputs": [],
   "source": [
    "__________._______(columns={________}, inplace=True)\n"
   ]
  },
  {
   "cell_type": "markdown",
   "id": "cdd83d65-c434-4285-86ec-c76ea0c730dd",
   "metadata": {},
   "source": [
    "## Esercizio 12:\n",
    "- Impostare \"County\" e \"State\" come indici per entrmabi i dataset!"
   ]
  },
  {
   "cell_type": "code",
   "execution_count": null,
   "id": "553abd36-b00f-4810-8e9f-92f1ae903760",
   "metadata": {},
   "outputs": [],
   "source": [
    "for i_df in [disocc_us_df, risultati_elettorali]:\n",
    "    i_df._______([\"______\", \"______\"], inplace = True)"
   ]
  },
  {
   "cell_type": "code",
   "execution_count": null,
   "id": "83c9ef5b-1786-4269-873d-f807fb0aa334",
   "metadata": {},
   "outputs": [],
   "source": []
  },
  {
   "cell_type": "code",
   "execution_count": null,
   "id": "5112af06-8a3a-4ff3-835c-b1da230384b5",
   "metadata": {},
   "outputs": [],
   "source": []
  },
  {
   "cell_type": "markdown",
   "id": "ecde29ac-dcab-4c1f-9371-eb9aa3569a0d",
   "metadata": {},
   "source": [
    "**Siamo interessati solo ai canditati principali cioè: Donald Trump e Hillary Clinton** <br>\n",
    "**e alla percentuale di voto che hanno ricevuto**"
   ]
  },
  {
   "cell_type": "code",
   "execution_count": null,
   "id": "2294f081-f0ea-490c-9be7-b57695940123",
   "metadata": {},
   "outputs": [],
   "source": [
    "risultati_elettorali_dt = ___________[___________['_____'] == \"Donald Trump\"]\n",
    "risultati_elettorali_dt = ___________[[\"___\"]]\n",
    "risultati_elettorali_dt = ___________.rename(columns={_________})"
   ]
  },
  {
   "cell_type": "markdown",
   "id": "3361a443-f0b5-4514-91d9-109a77675ecd",
   "metadata": {},
   "source": [
    "Ripetiamo le operazioni anche per Hillary Clinton"
   ]
  },
  {
   "cell_type": "code",
   "execution_count": null,
   "id": "4da8a493-d0ab-4f97-96b6-66fb6aabe15c",
   "metadata": {},
   "outputs": [],
   "source": []
  },
  {
   "cell_type": "markdown",
   "id": "bbd0ecb2-fd25-421b-b2d2-35def321eaa2",
   "metadata": {},
   "source": [
    "**Eliminiamo i valori nulli**"
   ]
  },
  {
   "cell_type": "code",
   "execution_count": null,
   "id": "c9d74508-3ef8-4d03-90a6-f10c2da5c384",
   "metadata": {},
   "outputs": [],
   "source": []
  },
  {
   "cell_type": "code",
   "execution_count": null,
   "id": "716cb0b3-3eb7-4e99-97a6-7de2227e3363",
   "metadata": {},
   "outputs": [],
   "source": []
  },
  {
   "cell_type": "markdown",
   "id": "ebcebd20-ab91-4f68-b74d-1e68fda1ade3",
   "metadata": {},
   "source": [
    "**Siamo pronti a fare il merge dei due datasets!**"
   ]
  },
  {
   "cell_type": "markdown",
   "id": "4e6694fb-57b8-47de-b7d4-5148d0a9be7b",
   "metadata": {},
   "source": [
    "Iniziamo con il dataframe di Donald Trump!"
   ]
  },
  {
   "cell_type": "code",
   "execution_count": null,
   "id": "b9ffb337-110e-4be1-9e98-faaf55a06d0c",
   "metadata": {},
   "outputs": [],
   "source": []
  },
  {
   "cell_type": "markdown",
   "id": "6f58f2f5-728e-4667-8cb2-258964fd9013",
   "metadata": {},
   "source": [
    "Ripetiamo l'operazione con il dataframe di Hillary Clinton"
   ]
  },
  {
   "cell_type": "code",
   "execution_count": null,
   "id": "e6823e4b-7919-4b20-966f-a79648091cd8",
   "metadata": {},
   "outputs": [],
   "source": []
  },
  {
   "cell_type": "markdown",
   "id": "15820879-4b53-41f0-8eca-ab182ce3df93",
   "metadata": {},
   "source": [
    "**La colonna \"Year\" è inutile essendo un dataframe del 2015**"
   ]
  },
  {
   "cell_type": "code",
   "execution_count": null,
   "id": "61f941bb-d1d4-4ed6-863c-aa5ad4f2b8d9",
   "metadata": {},
   "outputs": [],
   "source": []
  },
  {
   "cell_type": "code",
   "execution_count": null,
   "id": "3b27cdfb-752f-44a0-a597-7eac9ba4ebaa",
   "metadata": {},
   "outputs": [],
   "source": []
  },
  {
   "cell_type": "code",
   "execution_count": null,
   "id": "08b10d66-ca3e-4f6e-98fc-a114c87cb22f",
   "metadata": {},
   "outputs": [],
   "source": []
  }
 ],
 "metadata": {
  "kernelspec": {
   "display_name": "Python 3 (ipykernel)",
   "language": "python",
   "name": "python3"
  },
  "language_info": {
   "codemirror_mode": {
    "name": "ipython",
    "version": 3
   },
   "file_extension": ".py",
   "mimetype": "text/x-python",
   "name": "python",
   "nbconvert_exporter": "python",
   "pygments_lexer": "ipython3",
   "version": "3.9.9"
  }
 },
 "nbformat": 4,
 "nbformat_minor": 5
}
