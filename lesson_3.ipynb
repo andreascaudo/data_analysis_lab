{
 "cells": [
  {
   "cell_type": "markdown",
   "id": "31e6d9e4-cebc-439e-a26a-acc312d17a99",
   "metadata": {},
   "source": [
    "# Parte 3 - Machine Learning Workflow"
   ]
  },
  {
   "cell_type": "markdown",
   "id": "0eef1d17-6ebc-41c2-8942-46314e5ce4d7",
   "metadata": {},
   "source": [
    "Datasets: [Diamanti](https://www.kaggle.com/shivam2503/diamonds)"
   ]
  },
  {
   "cell_type": "markdown",
   "id": "d8da14e5-8db5-4726-9ce8-9f7802c0a561",
   "metadata": {},
   "source": [
    "**OBBIETTVO:** In base alle sue caratteristiche provare a predire il prezzo di un diamante <br>\n",
    "Utilizzeremo la libreria python **scikit-learn** per testare alcuni algoritmi di classificiazione!"
   ]
  },
  {
   "cell_type": "code",
   "execution_count": null,
   "id": "02bd4460-6f6e-4089-b204-95194f27903f",
   "metadata": {},
   "outputs": [],
   "source": []
  },
  {
   "cell_type": "code",
   "execution_count": null,
   "id": "da764bd1-4459-4f00-9c90-5f22ef041e96",
   "metadata": {},
   "outputs": [],
   "source": []
  },
  {
   "cell_type": "markdown",
   "id": "1acfa5a7-480c-43b7-a25c-6bfc85f0dc38",
   "metadata": {},
   "source": [
    "**Quale modello algoritmo di classificazione dovremmo utilizzare?**\n",
    "\n",
    "[Come scegliere il corretto algoritmo](https://scikit-learn.org/stable/tutorial/machine_learning_map/index.html)"
   ]
  },
  {
   "cell_type": "code",
   "execution_count": null,
   "id": "538bf87f-9297-4935-a6a0-24e0f2c32899",
   "metadata": {},
   "outputs": [],
   "source": []
  },
  {
   "cell_type": "markdown",
   "id": "ba722153-31ca-422e-8de0-a17d6387fc5b",
   "metadata": {},
   "source": [
    "## Linear Regression"
   ]
  },
  {
   "cell_type": "markdown",
   "id": "5316f475-b007-4bf9-9221-c69795004cab",
   "metadata": {},
   "source": [
    "<img src=\"Images/regression_1.jpeg\" alt=\"Drawing\" style=\"width: 545px;\"/><img src=\"images/regression_2.jpeg\" alt=\"Drawing\" style=\"width: 500px;\"/> <br> Per utilizzare la Linear Regression deve esserci una relazione lineare tra i dati"
   ]
  },
  {
   "cell_type": "markdown",
   "id": "550b749c-bad3-4fc0-be5b-a8222cc3784f",
   "metadata": {},
   "source": [
    "<img src=\"images/regression_3.png\" alt=\"Drawing\" style=\"width: 545px;\"/> "
   ]
  },
  {
   "cell_type": "markdown",
   "id": "ef670065-8ed7-41ed-bf18-341a5db48f05",
   "metadata": {},
   "source": [
    "[Least Square Method](https://www.varsitytutors.com/hotmath/hotmath_help/topics/line-of-best-fit)"
   ]
  },
  {
   "cell_type": "markdown",
   "id": "30b4f576-6814-4804-9491-69a8439a7347",
   "metadata": {},
   "source": [
    "Come si definisce la best fit line? <br>"
   ]
  },
  {
   "cell_type": "markdown",
   "id": "27cbfffb-8e91-4636-b234-23f6723b4eb5",
   "metadata": {},
   "source": [
    "$$Y = mx + b$$"
   ]
  },
  {
   "cell_type": "markdown",
   "id": "f280d1b3-1e05-42c1-9501-1e357c36c67c",
   "metadata": {},
   "source": [
    "Data una X dobbiamo trovare la sua Y corrispondente, ma prima dobbiamo risolvere _m_ e _b_:"
   ]
  },
  {
   "cell_type": "markdown",
   "id": "8eb8a9ff-2699-4502-92bc-b4c52a2fa439",
   "metadata": {},
   "source": [
    "_m_ è la pendenza<br>\n",
    "_b_ è l'intersezione di y"
   ]
  },
  {
   "cell_type": "markdown",
   "id": "434c9f91-0de9-4d92-9196-f6898125afe4",
   "metadata": {},
   "source": [
    "$$m = \\frac{\\overline{x}\\cdot\\overline{y} - \\overline{xy}}{(\\overline{x})^2-\\overline{x^2}}$$"
   ]
  },
  {
   "cell_type": "markdown",
   "id": "f00e30a6-3a40-4658-aa46-8b2f5b46aebe",
   "metadata": {},
   "source": [
    "$$b = \\overline{y}-m\\overline{x} $$"
   ]
  },
  {
   "cell_type": "markdown",
   "id": "ee4af367-a2ed-438b-9d83-c28c77355ef7",
   "metadata": {},
   "source": [
    "In questo caso abbiamo dati su 2 dimensioni, ma appena incrementiamo la dimensione dello spazio verriale incrementerà anche la complessità dei calcoli"
   ]
  },
  {
   "cell_type": "markdown",
   "id": "32b8d380-c290-4b83-99ab-769be39683b8",
   "metadata": {},
   "source": [
    "**Per allenare il nostro modello vogliamo utilizzare tutti i paramentri tranne il prezzo**"
   ]
  },
  {
   "cell_type": "code",
   "execution_count": null,
   "id": "d0a33bef-abda-447f-9063-7aa8a782459f",
   "metadata": {},
   "outputs": [],
   "source": []
  },
  {
   "cell_type": "markdown",
   "id": "5199fc84-35cb-4bab-92e9-e7de26effa0f",
   "metadata": {},
   "source": [
    "Abbiamo bisogno di categorie numeriche!"
   ]
  },
  {
   "cell_type": "code",
   "execution_count": null,
   "id": "fbaeea25-510c-480f-8d46-586a18c14478",
   "metadata": {},
   "outputs": [],
   "source": []
  },
  {
   "cell_type": "markdown",
   "id": "018345c0-2052-474c-a2f8-6dd2d0fe035a",
   "metadata": {},
   "source": [
    "**Problema**: Dobbiamo preservare il significato delle labels: per esempio Premium sarà migliore di Fair e così via.."
   ]
  },
  {
   "cell_type": "code",
   "execution_count": null,
   "id": "0bc7c7cd-25f0-4aae-af8f-4aaa7c920d8b",
   "metadata": {},
   "outputs": [],
   "source": [
    "cut_dizionario = {\"Fair\":1, \"Good\":2, \"Very Good\":3, \"Premium\":4, \"Ideal\":5}"
   ]
  },
  {
   "cell_type": "markdown",
   "id": "32b1c9e9-f622-4fc5-ade7-2bef7940ec95",
   "metadata": {},
   "source": [
    "Stessa cosa per:"
   ]
  },
  {
   "cell_type": "code",
   "execution_count": null,
   "id": "c06de3a3-a299-4f90-9915-edce8b8a46b5",
   "metadata": {},
   "outputs": [],
   "source": [
    "clarity_dizionario = {\"I3\": 1, \"I2\": 2, \"I1\": 3, \"SI2\": 4, \"SI1\": 5, \"VS2\": 6, \"VS1\": 7, \"VVS2\": 8, \"VVS1\": 9, \"IF\": 10, \"FL\": 11}\n",
    "color_dizionario = {\"J\": 1,\"I\": 2,\"H\": 3,\"G\": 4,\"F\": 5,\"E\": 6,\"D\": 7}"
   ]
  },
  {
   "cell_type": "markdown",
   "id": "3477e5e1-ebdb-4857-86db-a5052547fe59",
   "metadata": {},
   "source": [
    "Bisognerà mappare queste classi alle varie colonne del dataset"
   ]
  },
  {
   "cell_type": "code",
   "execution_count": null,
   "id": "1e3f62d1-56fa-4665-ae4b-781e9e4960ac",
   "metadata": {},
   "outputs": [],
   "source": []
  },
  {
   "cell_type": "markdown",
   "id": "8fd0cfba-05b8-43d2-9a6c-0f66415a1ee4",
   "metadata": {},
   "source": [
    "## Esercizio 13:\n",
    "- Mappare le colonne \"clarity\" e \"color\" con i rispettivi dizionari!"
   ]
  },
  {
   "cell_type": "code",
   "execution_count": null,
   "id": "c4bb93a9-26b6-4da4-ab79-c84f2a6ffc56",
   "metadata": {},
   "outputs": [],
   "source": []
  },
  {
   "cell_type": "code",
   "execution_count": null,
   "id": "bc658455-01f5-4b06-9779-8698c27d35be",
   "metadata": {},
   "outputs": [],
   "source": []
  },
  {
   "cell_type": "markdown",
   "id": "fc356dfa-93eb-4a9e-92d5-19e06a311e32",
   "metadata": {},
   "source": [
    "Prima di allenare il nostro modello è importante mescolare i dati per evitare che si formi del biasing analizzando i dati in ordine.\n",
    "<br> Per esempio potrebbe essere, come nel nostro caso, che i dati siano ordinati per prezzo."
   ]
  },
  {
   "cell_type": "code",
   "execution_count": null,
   "id": "371b804d-fec3-4146-b899-08bc0547c06a",
   "metadata": {},
   "outputs": [],
   "source": []
  },
  {
   "cell_type": "code",
   "execution_count": null,
   "id": "8cb1020c-437d-4f30-b81e-6dde56ab1fa4",
   "metadata": {},
   "outputs": [],
   "source": []
  },
  {
   "cell_type": "markdown",
   "id": "42385b0c-e303-49ad-ab52-094690a4773c",
   "metadata": {},
   "source": [
    "Separiamo il set di features dalla label che dobbiamo predire"
   ]
  },
  {
   "cell_type": "code",
   "execution_count": null,
   "id": "c1a37114-b065-4e44-858a-86f3a1913c8d",
   "metadata": {},
   "outputs": [],
   "source": []
  },
  {
   "cell_type": "code",
   "execution_count": null,
   "id": "daa20991-77ff-4551-85ac-3ccba9436f96",
   "metadata": {},
   "outputs": [],
   "source": []
  },
  {
   "cell_type": "markdown",
   "id": "fb68f6af-ec90-42bc-ae55-120e42394d42",
   "metadata": {},
   "source": [
    "**Bonus**: Avremmo potuto barare caricando il dataframe con l'index, poiché il dataset era ordinato per prezzo e facendo ciò avremmo lasciato un informazione in più che avrebbe compromesso la nostra regressione, poiché l'indice sarebbe stato ordinato come il prezzo."
   ]
  },
  {
   "cell_type": "markdown",
   "id": "944025de-e1f2-4091-b73f-18536bcda150",
   "metadata": {},
   "source": [
    "**Preprocessing**: Permette di normalizzare i valori, in questo modo ridurremo la sparsità e il modello lavorerà con dati più uniformi con conseguente miglioramente nelle performance"
   ]
  },
  {
   "cell_type": "code",
   "execution_count": null,
   "id": "5d9e3202-8113-42c8-9dde-49d227bf3393",
   "metadata": {},
   "outputs": [],
   "source": []
  },
  {
   "cell_type": "code",
   "execution_count": null,
   "id": "d98c3fc2-4b0b-4909-8aac-4e1a2edd8f79",
   "metadata": {},
   "outputs": [],
   "source": []
  },
  {
   "cell_type": "code",
   "execution_count": null,
   "id": "b9cd36e7-bfcb-453d-ae6b-4e3a977eb129",
   "metadata": {},
   "outputs": [],
   "source": []
  },
  {
   "cell_type": "code",
   "execution_count": null,
   "id": "b9d260ec-e611-48b0-854d-27c1c18254bc",
   "metadata": {},
   "outputs": [],
   "source": []
  },
  {
   "cell_type": "markdown",
   "id": "ab363a75-fe99-4a29-bc00-c28d2aacee3c",
   "metadata": {},
   "source": [
    "Il **train** è una porzione del dataset per cui il modello viene allenato\n",
    "\n",
    "Il **test** è una porzione del dataset che il nostro modello non vedrà mai, e sarà usato per valutarne le performance."
   ]
  },
  {
   "cell_type": "code",
   "execution_count": null,
   "id": "fb024ca9-5ea6-4669-9149-de16785090ce",
   "metadata": {},
   "outputs": [],
   "source": []
  },
  {
   "cell_type": "markdown",
   "id": "29eb936f-c058-422e-88a7-69407c83a830",
   "metadata": {},
   "source": [
    "Nel caso utilizzassimo il dataset di test per allenare il modello l'accurattezza finale risulterebbe compromessa poiché i dati sono già stati visionati dal modello durante la fase di train, in questo modo non possiamo verificare tramite il test se il modello abbia realmente imparato a predire un valore o abbia solamente imparato a memoria il dataset di train. Per questo motivo i dati di test devono essere utilizzati solo per testare il modello!"
   ]
  },
  {
   "cell_type": "markdown",
   "id": "acc8f44b-4fbd-4962-bda5-a39cd7565871",
   "metadata": {},
   "source": [
    "Andiamo a selezionare il [modello](https://scikit-learn.org/stable/tutorial/machine_learning_map/index.html) da utilizzare"
   ]
  },
  {
   "cell_type": "code",
   "execution_count": null,
   "id": "03e78dd1-576e-4c26-81e6-035657faeeea",
   "metadata": {},
   "outputs": [],
   "source": []
  },
  {
   "cell_type": "code",
   "execution_count": null,
   "id": "1edb0a96-ec75-4f8d-8e07-193d2ce760af",
   "metadata": {},
   "outputs": [],
   "source": []
  },
  {
   "cell_type": "markdown",
   "id": "eef67a0a-3ec0-4208-bb9f-91d8ad04f1c1",
   "metadata": {},
   "source": [
    "Coefficiente di determinazione (R quadro): \n",
    "- 0.0 Caso peggiore \n",
    "- 1.0 Caso migliore\n",
    "\n",
    "Esso è calcolato partendo dall'errore quadratico medio"
   ]
  },
  {
   "cell_type": "markdown",
   "id": "97c7816d-5da1-4843-a695-c1408cc12818",
   "metadata": {},
   "source": [
    "Andiamo a verificare quello che è successo!"
   ]
  },
  {
   "cell_type": "code",
   "execution_count": null,
   "id": "d20f755a-0442-4c29-8c12-6a067d8fba1e",
   "metadata": {},
   "outputs": [],
   "source": [
    "for X,y in zip(_____, _____):\n",
    "    print(f\"Model: {clf.predict([X])}, Actual: {y}\")\n",
    "    "
   ]
  },
  {
   "cell_type": "markdown",
   "id": "2768cf3d-02ff-4699-b0f7-40d864ae9461",
   "metadata": {},
   "source": [
    "Testiamo un altro modello!"
   ]
  },
  {
   "cell_type": "code",
   "execution_count": null,
   "id": "9a76f331-5367-4132-9a8a-e15598a6c9b9",
   "metadata": {},
   "outputs": [],
   "source": []
  },
  {
   "cell_type": "code",
   "execution_count": null,
   "id": "834b9124-9473-4791-af0b-0db6a7443769",
   "metadata": {},
   "outputs": [],
   "source": []
  },
  {
   "cell_type": "code",
   "execution_count": null,
   "id": "fa592503-de90-4003-a229-6818b6e2719b",
   "metadata": {},
   "outputs": [],
   "source": [
    "for X,y in zip(_____, ______):\n",
    "    print(f\"Model: {clf.predict([X])}, Actual: {y}\")"
   ]
  },
  {
   "cell_type": "markdown",
   "id": "223b5842-9dfb-48ae-80b7-0f5518727d59",
   "metadata": {},
   "source": [
    "**BONUS:** Si potrebbero usare più classifier e alla fine fare una media delle prestazioni!"
   ]
  }
 ],
 "metadata": {
  "kernelspec": {
   "display_name": "Python 3 (ipykernel)",
   "language": "python",
   "name": "python3"
  },
  "language_info": {
   "codemirror_mode": {
    "name": "ipython",
    "version": 3
   },
   "file_extension": ".py",
   "mimetype": "text/x-python",
   "name": "python",
   "nbconvert_exporter": "python",
   "pygments_lexer": "ipython3",
   "version": "3.9.9"
  }
 },
 "nbformat": 4,
 "nbformat_minor": 5
}
