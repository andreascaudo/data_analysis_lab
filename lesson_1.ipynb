{
 "cells": [
  {
   "cell_type": "markdown",
   "id": "48e6f498-579c-4c36-bcfb-8fc7dbf3296e",
   "metadata": {},
   "source": [
    "# Stage Informatica - Data Anlysis and Intelligent System"
   ]
  },
  {
   "cell_type": "markdown",
   "id": "2248941d-e36e-43ff-b618-1a44c1187ebb",
   "metadata": {},
   "source": [
    "## Introduzione\n",
    "\n",
    "In risposta all'incremento esponenzile negli ultimi anni dell'afflusso di dati, l'ambito Data Science è stato completamente rivoluzionato nell'ultimo decennio. Questa disciplina è stata portata avanti da persone provenienti da una vasta gamma di campi - statistica, fisica, informatica, design e molti altri - l'ambito Data Science rappresenta il desiderio collettivo di comprendere e sfruttare l'abbondanza di dati che ci circonda.\n",
    "\n",
    "Argomenti trattati:\n",
    "- Big Data\n",
    "- Data Analysis\n",
    "- Intelligent Systems"
   ]
  },
  {
   "cell_type": "markdown",
   "id": "b66a9080-8e48-4263-977a-2a6a30b7001d",
   "metadata": {
    "tags": []
   },
   "source": [
    "# Big Data\n",
    "\n",
    "## Cosa sono i Big Data?\n",
    "- Quantità e flusso di dati così grande e complesso che le tradizionali tecnologie (SQL) di data managment non riescono a gestire\n",
    "- NoSQL databases sono emersi grazie alla loro capacità di gestire big data\n",
    "    - Fondamentale riuscire ad estrarre informazioni utili e prezione\n",
    "- Sistemi di intelligenza artificiale riscono a riconoscere pattern all'interno di grandi volumi di dati\n",
    "    - Esempio: Identificare abitudini di:\n",
    "        - Acquisto\n",
    "        - Visione e ascolto\n",
    "        - Interazione "
   ]
  },
  {
   "cell_type": "markdown",
   "id": "c0b5f1b2-cc0d-4238-8d27-20316f5f0681",
   "metadata": {},
   "source": [
    "## Esempi\n",
    "### Amazon Shopping\n",
    "**Dati**: Storico acquisti, Informazioni demografiche. <br>\n",
    "**Analisi**: Potenziali acquisti. <br>\n",
    "**Prodotto**: Plubbicità Ad-Hoc. <br>\n",
    "### Uber\n",
    "**Dati**: Storico Corse, Traffico, Richieste. <br>\n",
    "**Analisi**: Picchi di domanda, Variazione della disponibilità dei driver. <br>\n",
    "**Prodotto**: Aggiustamento del prezzo della corsa. <br>\n",
    "### Netflix\n",
    "**Dati**: Contenuti guardati, Interazione con la piattaforma. <br>\n",
    "**Analisi**: Titoli preferiti, Livello di attenzione, Pattern di visualizzazione. <br>\n",
    "**Prodotto**: Titotli da consigliare, Prodotto su cui investire. <br>"
   ]
  },
  {
   "cell_type": "markdown",
   "id": "47eef085-5150-4a3e-aad9-f3149167df45",
   "metadata": {},
   "source": [
    "## Web Data Mining\n",
    "Il Web è la più grande sorgente di informazione pubblicamente accessibile al mondo:\n",
    "- **Enorme quantità di dati**: in continua crescita, info su quasi qualunque cosa \n",
    "- **Eterogeneità del formato dei dati**: tabelle, pagine web (immagini, audio, video) \n",
    "- **Eterogeneità dell'informazione**\n",
    "- **Rumore e ridondanza** → (content mining), adattabilità del contenuto \n",
    "- **Dinamico**: info cambia nel tempo → monitoraggio cambiamenti\n",
    "- **Società virtuale**: forum, blog, siti di review, reti sociali → opinion mining, social network analysis\n",
    "\n",
    "## Esempio:\n",
    "**[Twitter Analysis](http://bigdata.stratebi.com)** <br>\n",
    "**Problema**: Predizione gusti degli utenti. <br>\n",
    "**Misura di prestazione**: Percentuale tweet correttamente analizzati. <br>\n",
    "**Esperienza**: Utenti già profilati e relazioni già osservate. <br>"
   ]
  },
  {
   "cell_type": "markdown",
   "id": "893f31e0-8ace-4ef5-9dd7-3b8dd47932e5",
   "metadata": {},
   "source": [
    "# Dataset\n",
    "Un dataset è una collezione di dati. Nel caso di dati tabulari, un set di dati corrisponde a una o più tabelle di un database, dove ogni colonna di una tabella rappresenta una particolare variabile, e ogni riga corrisponde a un dato record del set di dati in questione. "
   ]
  },
  {
   "cell_type": "markdown",
   "id": "25a80ceb-4225-41d8-97a8-217b3676e1f9",
   "metadata": {},
   "source": [
    "## Risorse:\n",
    "- [Google Datasets](https://research.google/tools/datasets)\n",
    "- [Kaggle](https:www.kaggle.com)\n",
    "    - Competizioni:\n",
    "        - Esempi di problemi reali\n",
    "        - Compenso economico per il vincitore\n",
    "        - Esempi:\n",
    "            - [H&M](https://www.kaggle.com/c/h-and-m-personalized-fashion-recommendations)\n",
    "            - [Titanic](https://www.kaggle.com/c/titanic)\n",
    "            - [G-Research Crypto Forecasting](https://www.kaggle.com/c/g-research-crypto-forecasting)\n",
    "            - [Feedback Prize - Evaluating Student Writing](https://www.kaggle.com/c/feedback-prize-2021)\n",
    "    "
   ]
  },
  {
   "cell_type": "markdown",
   "id": "9b467b85-c1d8-42d8-ac28-dded7890ddc1",
   "metadata": {},
   "source": [
    "# [Pandas](https://pandas.pydata.org) Tutorial"
   ]
  },
  {
   "cell_type": "markdown",
   "id": "be49e311-ff09-4937-b26a-afd691fe78fa",
   "metadata": {},
   "source": [
    "**Cos'è Pandas?**\n",
    "- Pandas è una libreria Python scritta per la manipolazione e l'analisi dei dati. \n",
    "- DataFrame Object per la manipolazione dei dati con indicizzazione.\n",
    "- Strumenti per leggere e scrivere dati tra strutture dati e diversi formati.\n",
    "- Fusione e unione di data sets\n",
    "- Inserimento e cancellazione di colonne e righe\n",
    "- Allineamento dei dati e gestione integrata dei dati mancanti\n",
    "- La libreria è altamente ottimizzata per le prestazioni, con codice scritto in Cython o C."
   ]
  },
  {
   "cell_type": "markdown",
   "id": "1f8c06dd-7745-4e72-937d-814a070e99dd",
   "metadata": {},
   "source": [
    "# Parte 1 - Introduzione\n",
    "\n",
    "Il primo passaggio è importare Pandas:"
   ]
  },
  {
   "cell_type": "code",
   "execution_count": null,
   "id": "65a8d937-c4a7-4189-afd8-5656e0a0fae3",
   "metadata": {},
   "outputs": [],
   "source": []
  },
  {
   "cell_type": "markdown",
   "id": "4dbc3975-14b1-4008-bc90-37f961f54543",
   "metadata": {},
   "source": [
    "Dopodiché bisogna importare il nostro primo Dataset:\n",
    "[Avocado Price](https://www.kaggle.com/neuromusic/avocado-prices?select=avocado.csv)"
   ]
  },
  {
   "cell_type": "code",
   "execution_count": null,
   "id": "4591fa25-8799-44c4-8cc0-d78c021ddf51",
   "metadata": {},
   "outputs": [],
   "source": []
  },
  {
   "cell_type": "markdown",
   "id": "089abfac-1a05-4e3c-86d1-0954cf72f7b9",
   "metadata": {},
   "source": [
    "Per poter visualizzare il nostro dataset abbiamo più possivilità:\n",
    "- Per \"intero\"\n",
    "- Head or Tail"
   ]
  },
  {
   "cell_type": "code",
   "execution_count": null,
   "id": "6ffc550c-d281-43ce-9a7f-daad20f9c338",
   "metadata": {},
   "outputs": [],
   "source": []
  },
  {
   "cell_type": "markdown",
   "id": "60db9e63-6c2a-4ae8-95f5-54c582bb41c9",
   "metadata": {},
   "source": [
    "Possiamo farci restituire una porzione del dataset:"
   ]
  },
  {
   "cell_type": "code",
   "execution_count": null,
   "id": "60dc0be2-28bd-42f1-b7ab-7f871035d3eb",
   "metadata": {},
   "outputs": [],
   "source": []
  },
  {
   "cell_type": "markdown",
   "id": "3bc49318-8cda-47c6-a1bb-fad564ea187c",
   "metadata": {},
   "source": [
    "Inoltre possiamo aggiungere una condizione:"
   ]
  },
  {
   "cell_type": "code",
   "execution_count": null,
   "id": "1190069f-a77f-406c-a322-a4b32690cc02",
   "metadata": {},
   "outputs": [],
   "source": []
  },
  {
   "cell_type": "markdown",
   "id": "79460096-1d95-413b-8d62-c22eae9f2425",
   "metadata": {},
   "source": [
    "## ESERICIZIO 1\n",
    "\n",
    "**Estrarre una porzione del dataset per la quale la regione è uguale a \"Boston\"**"
   ]
  },
  {
   "cell_type": "code",
   "execution_count": null,
   "id": "8771a215-2a5d-4462-9a68-4a57619e9227",
   "metadata": {},
   "outputs": [],
   "source": [
    "boston_avocado_df = "
   ]
  },
  {
   "cell_type": "markdown",
   "id": "48ca0c60-f2dc-41cc-8993-6954aba16794",
   "metadata": {},
   "source": [
    "Andiamo a verificare il risultato:"
   ]
  },
  {
   "cell_type": "code",
   "execution_count": null,
   "id": "271f311b-69ec-4f4c-89cd-850601fee58a",
   "metadata": {},
   "outputs": [],
   "source": []
  },
  {
   "cell_type": "markdown",
   "id": "b60a1830-3608-4e80-9be5-c88018da0f53",
   "metadata": {},
   "source": [
    "Il dataframe dovrebbe essere indicizzato da un elenento."
   ]
  },
  {
   "cell_type": "code",
   "execution_count": null,
   "id": "a2005793-de5a-4def-b5ba-f75fa81abe23",
   "metadata": {},
   "outputs": [],
   "source": []
  },
  {
   "cell_type": "markdown",
   "id": "e0bebb5f-542c-4023-adb9-2cfe31adc10f",
   "metadata": {},
   "source": [
    "Nel nostro caso l'indice è senza significato, bisognerebbe trovare un dato che mette in relazione tutte le righe!<br>"
   ]
  },
  {
   "cell_type": "code",
   "execution_count": null,
   "id": "35647a3e-2cc6-4be4-be85-93e4e86c4c5f",
   "metadata": {},
   "outputs": [],
   "source": []
  },
  {
   "cell_type": "code",
   "execution_count": null,
   "id": "469835d2-edc7-43aa-b632-6c9eefce5299",
   "metadata": {},
   "outputs": [],
   "source": []
  },
  {
   "cell_type": "markdown",
   "id": "a8940253-f2e0-45ca-aba8-25d157386651",
   "metadata": {},
   "source": [
    "Problema uguale a prima, se l'oggetto dataframe non viene ridefinito in una variabile il contenuto sarà perso a meno che:"
   ]
  },
  {
   "cell_type": "code",
   "execution_count": null,
   "id": "c9dc5d89-a3f6-41c0-8a55-9ac179cae955",
   "metadata": {},
   "outputs": [],
   "source": []
  },
  {
   "cell_type": "code",
   "execution_count": null,
   "id": "cf3d5f16-67e6-4cd9-a4af-af769fe4692d",
   "metadata": {},
   "outputs": [],
   "source": []
  },
  {
   "cell_type": "markdown",
   "id": "7725d1d9-f890-4424-8f60-1ded62fa5f69",
   "metadata": {},
   "source": [
    "Facciamo un plot dei nostri dati:"
   ]
  },
  {
   "cell_type": "code",
   "execution_count": null,
   "id": "b176e46e-4103-4cdf-bc40-de8d8985c96b",
   "metadata": {},
   "outputs": [],
   "source": []
  },
  {
   "cell_type": "markdown",
   "id": "9a4790f4-c615-499b-a817-9d32834efba5",
   "metadata": {},
   "source": [
    "Meglio fare il plot di un elemento alla volta!"
   ]
  },
  {
   "cell_type": "code",
   "execution_count": null,
   "id": "e65a8e7e-6917-42b0-95c4-55144f26e71a",
   "metadata": {},
   "outputs": [],
   "source": []
  },
  {
   "cell_type": "markdown",
   "id": "36aaeda8-99fa-4103-95df-0c1ac5ef7fcb",
   "metadata": {},
   "source": [
    "**Problema**: Pandas non riconosce che sono date\n",
    "\n",
    "Bisogna riassegnare l'indice con un nuovo tipo -> datetime"
   ]
  },
  {
   "cell_type": "code",
   "execution_count": null,
   "id": "3445c96d-8d07-4607-9527-a32365d6b2e6",
   "metadata": {},
   "outputs": [],
   "source": []
  },
  {
   "cell_type": "markdown",
   "id": "ea3210ee-7f2e-4df6-8d73-a297d323138f",
   "metadata": {},
   "source": [
    "Proviamo a rifare il plot!"
   ]
  },
  {
   "cell_type": "code",
   "execution_count": null,
   "id": "55aa4cee-caa7-4fe9-a2c3-9ba51534c830",
   "metadata": {},
   "outputs": [],
   "source": []
  },
  {
   "cell_type": "markdown",
   "id": "6f1d706a-5f82-46ee-a06d-4584d0ff790b",
   "metadata": {},
   "source": [
    "**Problema**: Troppe oscillazione, conviene utilizzare una media mobile"
   ]
  },
  {
   "cell_type": "code",
   "execution_count": null,
   "id": "ead020fd-c952-4c4b-9c96-ab2d0517c5ad",
   "metadata": {},
   "outputs": [],
   "source": []
  },
  {
   "cell_type": "code",
   "execution_count": null,
   "id": "86880b07-3cc6-47e1-be9a-01049f41ae2e",
   "metadata": {},
   "outputs": [],
   "source": []
  },
  {
   "cell_type": "code",
   "execution_count": null,
   "id": "7fec9321-add9-4618-af51-df0e896fad50",
   "metadata": {},
   "outputs": [],
   "source": []
  },
  {
   "cell_type": "code",
   "execution_count": null,
   "id": "8153fd10-13fe-4fb9-8351-80412d7b07db",
   "metadata": {},
   "outputs": [],
   "source": []
  },
  {
   "cell_type": "markdown",
   "id": "25e79dbc-c391-4fff-804b-67653cd47c0a",
   "metadata": {},
   "source": [
    "Questa colonna potrebbe essere utile in futuro! Come facciamo a renderla una colonna del dataset?"
   ]
  },
  {
   "cell_type": "code",
   "execution_count": null,
   "id": "f9e3a0fd-4af6-4b32-aed9-1737a1e75c50",
   "metadata": {},
   "outputs": [],
   "source": []
  },
  {
   "cell_type": "code",
   "execution_count": null,
   "id": "0f2eca69-eb5a-4329-ab5f-27ca9a1580ee",
   "metadata": {},
   "outputs": [],
   "source": []
  },
  {
   "cell_type": "code",
   "execution_count": null,
   "id": "1eac5bb1-5c58-4b21-835d-9ce71391e8a6",
   "metadata": {},
   "outputs": [],
   "source": []
  },
  {
   "cell_type": "markdown",
   "id": "5c636f7a-ef84-4b65-a655-d6471b5a16f7",
   "metadata": {},
   "source": [
    "NaN = Not A Number"
   ]
  },
  {
   "cell_type": "markdown",
   "id": "17d89abf-a4cd-4f8d-bd1e-4855e5da2dae",
   "metadata": {},
   "source": [
    "Bisognerà rimuovere tutti le righe che sono uguali a NaN"
   ]
  },
  {
   "cell_type": "code",
   "execution_count": null,
   "id": "406ed8bb-1913-4725-8893-ce22a6457bcc",
   "metadata": {},
   "outputs": [],
   "source": []
  },
  {
   "cell_type": "markdown",
   "id": "4bedfb4c-9fe0-4b22-bb67-a6e162ab0e9b",
   "metadata": {},
   "source": [
    "Possiamo estrarre dal dataframe colonne con diversi formati:\n",
    "- Array\n",
    "- Liste"
   ]
  },
  {
   "cell_type": "code",
   "execution_count": null,
   "id": "acfde015-10c3-4e59-b03b-735f94d51076",
   "metadata": {},
   "outputs": [],
   "source": []
  },
  {
   "cell_type": "code",
   "execution_count": null,
   "id": "c6ef17c6-cf8b-40f4-99b6-398826c0cf68",
   "metadata": {},
   "outputs": [],
   "source": []
  },
  {
   "cell_type": "markdown",
   "id": "1161c3a6-22ab-48ff-bf8c-9fda43e218e6",
   "metadata": {},
   "source": [
    "Oppure più semplicemente:"
   ]
  },
  {
   "cell_type": "code",
   "execution_count": null,
   "id": "4505f0ff-2715-42ef-b631-ce8ecfcbe8c6",
   "metadata": {},
   "outputs": [],
   "source": [
    "# Pandas ha molto spesso ha già delle funzione che sono più veloci di qualsiasi funzione che voi potreste implementare"
   ]
  }
 ],
 "metadata": {
  "kernelspec": {
   "display_name": "Python 3 (ipykernel)",
   "language": "python",
   "name": "python3"
  },
  "language_info": {
   "codemirror_mode": {
    "name": "ipython",
    "version": 3
   },
   "file_extension": ".py",
   "mimetype": "text/x-python",
   "name": "python",
   "nbconvert_exporter": "python",
   "pygments_lexer": "ipython3",
   "version": "3.9.9"
  }
 },
 "nbformat": 4,
 "nbformat_minor": 5
}
